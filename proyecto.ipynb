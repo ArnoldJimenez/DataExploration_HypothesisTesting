{
 "cells": [
  {
   "cell_type": "markdown",
   "metadata": {},
   "source": [
    "\n",
    "**Comentario del Revisor**\n",
    "\n",
    "Hola!\n",
    "\n",
    "Soy Juan Manuel Romero, pero siéntete libre de llamarme Juanma. Soy code reviewer en Tripleten y hoy estaré revisando tu entrega.\n",
    "\n",
    "Para simular la dinámica de un ambiente de trabajo, si veo algún error, en primer instancia solo los señalaré, dándote la oportunidad de encontrarlos y corregirlos por tu cuenta. En un trabajo real, el líder de tu equipo hará una dinámica similar. En caso de que no puedas resolver la tarea, te daré una información más precisa en la próxima revisión. \n",
    "\n",
    "Solo un aviso rápido: cuando estés revisando el proyecto, por favor deja mis comentarios originales tal como están. De esta manera, podemos seguir fácilmente el progreso y asegurarnos de que no se nos pase nada por alto. Y, si realizas algún cambio basado en mis comentarios, sería genial si pudieras resaltar esas actualizaciones para que se destaquen.\n",
    "\n",
    "Puedes encontrar mis comentarios en cajas verdes, amarillas o rojas como estas:\n",
    "\n",
    "<div class=\"alert alert-block alert-success\"> \n",
    "<b>Comentario del Revisor</b> <a class=\"tocSkip\"></a>\n",
    "\n",
    "Éxito. Todo se ha hecho correctamente.\n",
    "\n",
    "</div>\n",
    "\n",
    "\n",
    "<div class=\"alert alert-block alert-warning\"> \n",
    "<b>Comentario del Revisor</b> <a class=\"tocSkip\"></a>\n",
    "\n",
    "Observaciones. Algunas recomendaciones.\n",
    "\n",
    "</div> \n",
    "\n",
    "\n",
    "<div class=\"alert alert-block alert-danger\">\n",
    "<b>Comentario del Revisor</b> <a class=\"tocSkip\"></a>\n",
    "\n",
    "Requiere corrección. El bloque requiere algunas correcciones. El trabajo no puede ser aceptado con los comentarios en rojo.\n",
    "\n",
    "</div>\n",
    "\n",
    "Puedes responderme usando esto:\n",
    "\n",
    "\n",
    "\n",
    "<div class=\"alert alert-block alert-info\"> <b>Respuesta del estudiante.</b> <a class=\"tocSkip\"></a> \n",
    "    \n",
    "buenas tardes\n",
    "\n",
    "por favor con quien tomo una sesion de como manejar dicho Jupyter Notebook por que no tengo idea de como hacerlo segun las indicaciones ya que si se ejecuta una parte del codigo por separado arroja error, gracias. \n",
    "\n",
    "\n",
    "\n",
    "\n",
    "\n",
    "buenas noches\n",
    "\n",
    "sin embargo tratare de mi parte tambien poder ubicar a alguien que me ayude ya que el hecho que me atrase por este pequeño traspie no me parece pues veo que mi codigo cumple segun lo requerido y esta bien, y la finalidad o el objetivo por el cual pague este bootcamp es para prender de phyton y demas asignaturas no para profundizar en jupyter,</div>\n",
    "\n"
   ]
  },
  {
   "cell_type": "code",
   "execution_count": null,
   "metadata": {
    "scrolled": true
   },
   "outputs": [],
   "source": []
  },
  {
   "cell_type": "markdown",
   "metadata": {},
   "source": [
    "\n",
    "<div class=\"alert alert-block alert-danger\"> \n",
    "<b>COMENTARIO GENERAL #1</b> <a class=\"tocSkip\"></a>\n",
    "\n",
    "<div class=\"alert alert-block alert-success\"> \n",
    "<b> - #1</b> <a class=\"tocSkip\"></a>\n",
    "\n",
    "Hola Arnold! En general veo que tu trabajo va bien encaminado. Sin embargo, antes de poder evaluarlo detenidamente, es necesario que tomes algo en cuenta:\n",
    "\n",
    "</div>\n",
    "\n",
    "No estás haciendo un uso correcto de la herramienta \"jupyter notebook\".\n",
    "\n",
    "En un Jupyter Notebook, el kernel actúa como una \"memoria compartida\" entre todas las celdas. Esto significa que las variables, funciones, y librerías importadas en una celda permanecen disponibles para usarse en otras celdas mientras el kernel esté activo. Por ello:\n",
    "\n",
    "1. **No es necesario (ni correcto) importar las mismas librerías en cada celda.** Una vez que importas una librería en una celda, estará disponible para todo el notebook. Importarlas varias veces no tiene sentido y puede hacer que tu código sea más largo y confuso.\n",
    "    \n",
    "2. **Evita repetir código innecesariamente.** Si un fragmento de código (por ejemplo, una función) será utilizado en varias partes del notebook, puedes definirlo en una celda y luego simplemente invocarlo cuando lo necesites. Esto hace que tu trabajo sea más limpio, organizado y fácil de entender.\n",
    "    \n",
    "3. **Mantén el orden de ejecución.** Es importante ejecutar las celdas en el orden lógico correcto, ya que si ejecutas una celda que depende de otra sin haberla ejecutado previamente, aparecerán errores.\n",
    "\n",
    "4. **Evita cargar repetidamente los datos desde un archivo.** Si usas `pd.read_csv` (o funciones similares) en varias celdas para leer el mismo archivo, estarás perdiendo cualquier cambio que hayas hecho a los datos en el notebook. Por ejemplo, si limpias los datos, agregas columnas o realizas cálculos intermedios, todo ese trabajo se descartará porque estás cargando el archivo desde cero cada vez. En su lugar, carga los datos una vez y almacénalos en una variable para trabajar con ellos en todo el notebook.\n",
    "\n",
    "5. **No es correcto repetir procesos.** Si tomas un dataframe y borras duplicados, no es correcto volver a hacerlo luego. Además de que agrega una carga computacional innecesaria, también hace que la lectura de tu proyecto sea confusa y redundante.\n",
    "\n",
    "Recuerda, tu notebook debería ser como una narración lógica de tu análisis. Cada celda debería añadir algo nuevo, no repetir cosas que ya has hecho.\n",
    "\n",
    "Te sugiero que tengas una sesión de ayuda para poder aclarar tus dudas al respecto. \n",
    "\n",
    "</div>\n",
    "\n"
   ]
  },
  {
   "cell_type": "markdown",
   "metadata": {},
   "source": [
    "<div class=\"alert alert-block alert-success\"> \n",
    "<b>Comentario del Revisor #2</b> <a class=\"tocSkip\"></a>\n",
    "\n",
    "No te preocupes Arnold! Ahora hablo con el equipo para que el tutor se ponga en contacto contigo y puedas solucionar todas tus dudas.\n",
    "\n",
    "</div>"
   ]
  },
  {
   "cell_type": "markdown",
   "metadata": {},
   "source": [
    "<div class=\"alert alert-block alert-warning\"> \n",
    "<b>Comentario del Revisor #3</b> <a class=\"tocSkip\"></a>\n",
    "\n",
    "Gracias por tu mensaje. Entiendo que puede ser frustrante encontrarse con dificultades al inicio, pero quiero asegurarte que dominar Jupyter Notebook es una habilidad fundamental en la industria, especialmente en ciencia de datos, machine learning y desarrollo en Python. Es una herramienta ampliamente utilizada porque permite ejecutar código por partes, visualizar resultados de manera interactiva y documentar el proceso de trabajo de forma clara y estructurada.\n",
    "\n",
    "Durante todo el bootcamp utilizaremos Jupyter Notebook, por lo que es importante que no tengas dudas sobre su uso. Dominarlo no solo te facilitará completar las actividades del curso, sino que también será una ventaja en tu desarrollo profesional.\n",
    "\n",
    "He vuelto a solicitar que alguien se comunique contigo para brindarte apoyo y asegurarnos de que puedas resolver cualquier duda que tengas. ¡No te preocupes! Lo importante es que estás aquí para aprender, y estos retos forman parte del proceso. ¡Ánimo! Estoy seguro de que con un poco de práctica te sentirás mucho más cómodo con la herramienta. 🚀\n",
    "\n",
    "Si necesitas más ayuda, no dudes en preguntar. ¡Estamos para apoyarte en tu aprendizaje! 💪\n",
    "\n",
    "</div>"
   ]
  },
  {
   "cell_type": "markdown",
   "metadata": {},
   "source": [
    "\n",
    "<div class=\"alert alert-block alert-success\"> \n",
    "<b>COMENTARIO GENERAL #4</b> <a class=\"tocSkip\"></a>\n",
    "\n",
    "Felicidades Arnold! Ahora si, tu trabajo es excelente. \n",
    "\n",
    "Has completado todos los items necesarios para aprobar la entrega.\n",
    "\n",
    "Sigue así!\n",
    "\n",
    "</div>"
   ]
  },
  {
   "cell_type": "markdown",
   "metadata": {
    "id": "E0vqbgi9ay0H"
   },
   "source": [
    "# Déjame escuchar la música"
   ]
  },
  {
   "cell_type": "markdown",
   "metadata": {
    "id": "fhq_eyov_Zcs"
   },
   "source": [
    "# Contenido <a id='back'></a>\n",
    "\n",
    "* [Introducción](#intro)\n",
    "* [Etapa 1. Descripción de los datos](#data_review)\n",
    "    * [Conclusiones](#data_review_conclusions)\n",
    "* [Etapa 2. Preprocesamiento de datos](#data_preprocessing)\n",
    "    * [2.1 Estilo del encabezado](#header_style)\n",
    "    * [2.2 Valores ausentes](#missing_values)\n",
    "    * [2.3 Duplicados](#duplicates)\n",
    "    * [2.4 Conclusiones](#data_preprocessing_conclusions)\n",
    "* [Etapa 3. Prueba de hipótesis](#hypothesis)\n",
    "    * [3.1 Hipótesis 1: actividad de los usuarios y las usuarias en las dos ciudades](#activity)\n",
    "* [Conclusiones](#end)"
   ]
  },
  {
   "cell_type": "markdown",
   "metadata": {
    "id": "VUC88oWjTJw2"
   },
   "source": [
    "## Introducción <a id='intro'></a>\n",
    "Como analista de datos, tu trabajo consiste en analizar datos para extraer información valiosa y tomar decisiones basadas en ellos. Esto implica diferentes etapas, como la descripción general de los datos, el preprocesamiento y la prueba de hipótesis.\n",
    "\n",
    "Siempre que investigamos, necesitamos formular hipótesis que después podamos probar. A veces aceptamos estas hipótesis; otras veces, las rechazamos. Para tomar las decisiones correctas, una empresa debe ser capaz de entender si está haciendo las suposiciones correctas.\n",
    "\n",
    "En este proyecto, compararás las preferencias musicales de las ciudades de Springfield y Shelbyville. Estudiarás datos reales de transmisión de música online para probar la hipótesis a continuación y comparar el comportamiento de los usuarios y las usuarias de estas dos ciudades.\n",
    "\n",
    "### Objetivo:\n",
    "Prueba la hipótesis:\n",
    "1. La actividad de los usuarios y las usuarias difiere según el día de la semana y dependiendo de la ciudad.\n",
    "\n",
    "\n",
    "### Etapas\n",
    "Los datos del comportamiento del usuario se almacenan en el archivo `/datasets/music_project_en.csv`. No hay ninguna información sobre la calidad de los datos, así que necesitarás examinarlos antes de probar la hipótesis.\n",
    "\n",
    "Primero, evaluarás la calidad de los datos y verás si los problemas son significativos. Entonces, durante el preprocesamiento de datos, tomarás en cuenta los problemas más críticos.\n",
    "\n",
    "Tu proyecto consistirá en tres etapas:\n",
    " 1. Descripción de los datos.\n",
    " 2. Preprocesamiento de datos.\n",
    " 3. Prueba de hipótesis.\n",
    "\n",
    "\n",
    "\n",
    "\n",
    "\n",
    "\n"
   ]
  },
  {
   "cell_type": "markdown",
   "metadata": {
    "id": "hDt6pg-Rw-1U"
   },
   "source": [
    "[Volver a Contenidos](#back)"
   ]
  },
  {
   "cell_type": "markdown",
   "metadata": {
    "id": "Ml1hmfXC_Zcs"
   },
   "source": [
    "## Etapa 1. Descripción de los datos <a id='data_review'></a>\n",
    "\n",
    "Abre los datos y examínalos."
   ]
  },
  {
   "cell_type": "markdown",
   "metadata": {
    "id": "57eAOGIz_Zcs"
   },
   "source": [
    "Necesitarás `pandas`, así que impórtalo."
   ]
  },
  {
   "cell_type": "code",
   "execution_count": 1,
   "metadata": {
    "id": "AXN7PHPN_Zcs"
   },
   "outputs": [],
   "source": [
    "import pandas as pd\n"
   ]
  },
  {
   "cell_type": "markdown",
   "metadata": {
    "id": "SG23P8tt_Zcs"
   },
   "source": [
    "Lee el archivo `music_project_en.csv` de la carpeta `/datasets/` y guárdalo en la variable `df`:"
   ]
  },
  {
   "cell_type": "code",
   "execution_count": 2,
   "metadata": {
    "id": "fFVu7vqh_Zct",
    "scrolled": true
   },
   "outputs": [],
   "source": [
    "# Leer el archivo y almacenarlo en df\n",
    "\n",
    "df = pd.read_csv ('/datasets/music_project_en.csv')\n"
   ]
  },
  {
   "cell_type": "markdown",
   "metadata": {
    "id": "rDoOMd3uTqnZ"
   },
   "source": [
    "Muestra las 10 primeras filas de la tabla:"
   ]
  },
  {
   "cell_type": "code",
   "execution_count": 3,
   "metadata": {
    "id": "oWTVX3gW_Zct",
    "scrolled": true
   },
   "outputs": [
    {
     "data": {
      "text/html": [
       "<div>\n",
       "<style scoped>\n",
       "    .dataframe tbody tr th:only-of-type {\n",
       "        vertical-align: middle;\n",
       "    }\n",
       "\n",
       "    .dataframe tbody tr th {\n",
       "        vertical-align: top;\n",
       "    }\n",
       "\n",
       "    .dataframe thead th {\n",
       "        text-align: right;\n",
       "    }\n",
       "</style>\n",
       "<table border=\"1\" class=\"dataframe\">\n",
       "  <thead>\n",
       "    <tr style=\"text-align: right;\">\n",
       "      <th></th>\n",
       "      <th>userID</th>\n",
       "      <th>Track</th>\n",
       "      <th>artist</th>\n",
       "      <th>genre</th>\n",
       "      <th>City</th>\n",
       "      <th>time</th>\n",
       "      <th>Day</th>\n",
       "    </tr>\n",
       "  </thead>\n",
       "  <tbody>\n",
       "    <tr>\n",
       "      <th>0</th>\n",
       "      <td>FFB692EC</td>\n",
       "      <td>Kamigata To Boots</td>\n",
       "      <td>The Mass Missile</td>\n",
       "      <td>rock</td>\n",
       "      <td>Shelbyville</td>\n",
       "      <td>20:28:33</td>\n",
       "      <td>Wednesday</td>\n",
       "    </tr>\n",
       "    <tr>\n",
       "      <th>1</th>\n",
       "      <td>55204538</td>\n",
       "      <td>Delayed Because of Accident</td>\n",
       "      <td>Andreas Rönnberg</td>\n",
       "      <td>rock</td>\n",
       "      <td>Springfield</td>\n",
       "      <td>14:07:09</td>\n",
       "      <td>Friday</td>\n",
       "    </tr>\n",
       "    <tr>\n",
       "      <th>2</th>\n",
       "      <td>20EC38</td>\n",
       "      <td>Funiculì funiculà</td>\n",
       "      <td>Mario Lanza</td>\n",
       "      <td>pop</td>\n",
       "      <td>Shelbyville</td>\n",
       "      <td>20:58:07</td>\n",
       "      <td>Wednesday</td>\n",
       "    </tr>\n",
       "    <tr>\n",
       "      <th>3</th>\n",
       "      <td>A3DD03C9</td>\n",
       "      <td>Dragons in the Sunset</td>\n",
       "      <td>Fire + Ice</td>\n",
       "      <td>folk</td>\n",
       "      <td>Shelbyville</td>\n",
       "      <td>08:37:09</td>\n",
       "      <td>Monday</td>\n",
       "    </tr>\n",
       "    <tr>\n",
       "      <th>4</th>\n",
       "      <td>E2DC1FAE</td>\n",
       "      <td>Soul People</td>\n",
       "      <td>Space Echo</td>\n",
       "      <td>dance</td>\n",
       "      <td>Springfield</td>\n",
       "      <td>08:34:34</td>\n",
       "      <td>Monday</td>\n",
       "    </tr>\n",
       "    <tr>\n",
       "      <th>5</th>\n",
       "      <td>842029A1</td>\n",
       "      <td>Chains</td>\n",
       "      <td>Obladaet</td>\n",
       "      <td>rusrap</td>\n",
       "      <td>Shelbyville</td>\n",
       "      <td>13:09:41</td>\n",
       "      <td>Friday</td>\n",
       "    </tr>\n",
       "    <tr>\n",
       "      <th>6</th>\n",
       "      <td>4CB90AA5</td>\n",
       "      <td>True</td>\n",
       "      <td>Roman Messer</td>\n",
       "      <td>dance</td>\n",
       "      <td>Springfield</td>\n",
       "      <td>13:00:07</td>\n",
       "      <td>Wednesday</td>\n",
       "    </tr>\n",
       "    <tr>\n",
       "      <th>7</th>\n",
       "      <td>F03E1C1F</td>\n",
       "      <td>Feeling This Way</td>\n",
       "      <td>Polina Griffith</td>\n",
       "      <td>dance</td>\n",
       "      <td>Springfield</td>\n",
       "      <td>20:47:49</td>\n",
       "      <td>Wednesday</td>\n",
       "    </tr>\n",
       "    <tr>\n",
       "      <th>8</th>\n",
       "      <td>8FA1D3BE</td>\n",
       "      <td>L’estate</td>\n",
       "      <td>Julia Dalia</td>\n",
       "      <td>ruspop</td>\n",
       "      <td>Springfield</td>\n",
       "      <td>09:17:40</td>\n",
       "      <td>Friday</td>\n",
       "    </tr>\n",
       "    <tr>\n",
       "      <th>9</th>\n",
       "      <td>E772D5C0</td>\n",
       "      <td>Pessimist</td>\n",
       "      <td>NaN</td>\n",
       "      <td>dance</td>\n",
       "      <td>Shelbyville</td>\n",
       "      <td>21:20:49</td>\n",
       "      <td>Wednesday</td>\n",
       "    </tr>\n",
       "  </tbody>\n",
       "</table>\n",
       "</div>"
      ],
      "text/plain": [
       "     userID                        Track            artist   genre  \\\n",
       "0  FFB692EC            Kamigata To Boots  The Mass Missile    rock   \n",
       "1  55204538  Delayed Because of Accident  Andreas Rönnberg    rock   \n",
       "2    20EC38            Funiculì funiculà       Mario Lanza     pop   \n",
       "3  A3DD03C9        Dragons in the Sunset        Fire + Ice    folk   \n",
       "4  E2DC1FAE                  Soul People        Space Echo   dance   \n",
       "5  842029A1                       Chains          Obladaet  rusrap   \n",
       "6  4CB90AA5                         True      Roman Messer   dance   \n",
       "7  F03E1C1F             Feeling This Way   Polina Griffith   dance   \n",
       "8  8FA1D3BE                     L’estate       Julia Dalia  ruspop   \n",
       "9  E772D5C0                    Pessimist               NaN   dance   \n",
       "\n",
       "        City        time        Day  \n",
       "0  Shelbyville  20:28:33  Wednesday  \n",
       "1  Springfield  14:07:09     Friday  \n",
       "2  Shelbyville  20:58:07  Wednesday  \n",
       "3  Shelbyville  08:37:09     Monday  \n",
       "4  Springfield  08:34:34     Monday  \n",
       "5  Shelbyville  13:09:41     Friday  \n",
       "6  Springfield  13:00:07  Wednesday  \n",
       "7  Springfield  20:47:49  Wednesday  \n",
       "8  Springfield  09:17:40     Friday  \n",
       "9  Shelbyville  21:20:49  Wednesday  "
      ]
     },
     "metadata": {},
     "output_type": "display_data"
    }
   ],
   "source": [
    "# Obtener las 10 primeras filas de la tabla df\n",
    "\n",
    "display(df.head(10))\n"
   ]
  },
  {
   "cell_type": "markdown",
   "metadata": {
    "id": "EO73Kwic_Zct"
   },
   "source": [
    "Obtén la información general sobre la tabla con un comando. Conoces el método que muestra la información general que necesitamos."
   ]
  },
  {
   "cell_type": "code",
   "execution_count": 4,
   "metadata": {
    "id": "DSf2kIb-_Zct"
   },
   "outputs": [
    {
     "name": "stdout",
     "output_type": "stream",
     "text": [
      "<class 'pandas.core.frame.DataFrame'>\n",
      "RangeIndex: 65079 entries, 0 to 65078\n",
      "Data columns (total 7 columns):\n",
      " #   Column    Non-Null Count  Dtype \n",
      "---  ------    --------------  ----- \n",
      " 0     userID  65079 non-null  object\n",
      " 1   Track     63736 non-null  object\n",
      " 2   artist    57512 non-null  object\n",
      " 3   genre     63881 non-null  object\n",
      " 4     City    65079 non-null  object\n",
      " 5   time      65079 non-null  object\n",
      " 6   Day       65079 non-null  object\n",
      "dtypes: object(7)\n",
      "memory usage: 3.5+ MB\n"
     ]
    }
   ],
   "source": [
    "# Obtener la información general sobre nuestros datos\n",
    "\n",
    "df.info()"
   ]
  },
  {
   "cell_type": "markdown",
   "metadata": {},
   "source": [
    "<div class=\"alert alert-block alert-success\"> \n",
    "<b>Comentario del Revisor #4</b> <a class=\"tocSkip\"></a>\n",
    "\n",
    "Excelente trabajo! Has utilizado correctamente los métodos _head()_ e _info()_ para obtener una vista rápida del dataset. _head()_ te muestra las primeras filas del dataset, lo que es útil para tener una idea general de la estructura y los valores, mientras que _info()_ te proporciona un resumen de las columnas, tipos de datos y valores faltantes.\n",
    "\n",
    "<div class=\"alert alert-block alert-warning\"> \n",
    "<b>Comentario del Revisor #4</b> <a class=\"tocSkip\"></a>\n",
    "\n",
    "En Jupyter Notebook, puedes simplemente escribir `df.head()` sin necesidad de `print()`. La última expresión de una celda se muestra automáticamente, y al omitir `print()`, la salida suele verse más clara y mejor formateada.\n",
    "\n",
    "De forma similar, no es necesario usar `print(df.info())` en Jupyter Notebook porque `df.info()` ya muestra la información directamente en la salida sin necesidad de `print()`. A diferencia de otros métodos, `df.info()` no devuelve un valor; simplemente imprime la información en la consola.\n",
    "\n",
    "</div>\n",
    "\n",
    "</div>"
   ]
  },
  {
   "cell_type": "markdown",
   "metadata": {
    "id": "TaQ2Iwbr_Zct"
   },
   "source": [
    "Estas son nuestras observaciones sobre la tabla. Contiene siete columnas. Almacenan los mismos tipos de datos: `object`.\n",
    "\n",
    "Según la documentación:\n",
    "- `' userID'`: identificador del usuario o la usuaria;\n",
    "- `'Track'`: título de la canción;\n",
    "- `'artist'`: nombre del artista;\n",
    "- `'genre'`: género de la pista;\n",
    "- `'City'`: ciudad del usuario o la usuaria;\n",
    "- `'time'`: la hora exacta en la que se reprodujo la canción;\n",
    "- `'Day'`: día de la semana.\n",
    "\n",
    "Podemos ver tres problemas con el estilo en los encabezados de la tabla:\n",
    "1. Algunos encabezados están en mayúsculas, otros en minúsculas.\n",
    "2. Hay espacios en algunos encabezados.\n",
    "3. `en la segunda columna tenemos que hay diferencias, puede que track, artist y genre puede que hayan valores ausentes`.\n",
    "\n"
   ]
  },
  {
   "cell_type": "code",
   "execution_count": null,
   "metadata": {
    "scrolled": true
   },
   "outputs": [],
   "source": []
  },
  {
   "cell_type": "markdown",
   "metadata": {
    "id": "MCB6-dXG_Zct"
   },
   "source": [
    "### Escribe observaciones de tu parte. Estas son algunas de las preguntas que pueden ser útiles: <a id='data_review_conclusions'></a>\n",
    "\n",
    "`1.   ¿Qué tipo de datos tenemos a nuestra disposición en las filas? ¿Y cómo podemos entender lo que almacenan las columnas?`\n",
    "\n",
    "podemos ver que la informacion es de una tabla que almecena diferentes datos sobre un reproductor de musica ya sea plataforma o tienda de musica, la cual tiene unas celdas con diferencias y hay que hacer una limpieza de dichos datos para poder trabajar con la informacion.\n",
    "\n",
    "`2.   ¿Hay suficientes datos para proporcionar respuestas a nuestra hipótesis o necesitamos más información?`\n",
    "\n",
    "tenemos que revisar a profundidad loss espacios faltantes track, artist y genre, los cuales mas adelante pueden causar problemas para el analisis.  \n",
    "\n",
    "`3.   ¿Notaste algún problema en los datos, como valores ausentes, duplicados o tipos de datos incorrectos?`\n",
    "\n",
    "1. Algunos encabezados están en mayúsculas, otros en minúsculas.\n",
    "2. Hay espacios en algunos encabezados.\n",
    "3. en 3  de las columnas tenemos que hay diferencias, puede que track, artist y genre puede que hayan valores ausentes."
   ]
  },
  {
   "cell_type": "markdown",
   "metadata": {},
   "source": [
    "<div class=\"alert alert-block alert-success\"> \n",
    "<b>Comentario del Revisor #4</b> <a class=\"tocSkip\"></a>\n",
    "\n",
    "Muy bien! Has respondido todas las preguntas propuestas correctamente.\n",
    "</div>"
   ]
  },
  {
   "cell_type": "markdown",
   "metadata": {
    "id": "3eL__vcwViOi"
   },
   "source": [
    "[Volver a Contenidos](#back)"
   ]
  },
  {
   "cell_type": "markdown",
   "metadata": {
    "id": "SjYF6Ub9_Zct"
   },
   "source": [
    "## Etapa 2. Preprocesamiento de datos <a id='data_preprocessing'></a>\n",
    "\n",
    "El objetivo aquí es preparar los datos para que sean analizados.\n",
    "El primer paso es resolver cualquier problema con los encabezados. Luego podemos avanzar a los valores ausentes y duplicados. Empecemos.\n",
    "\n",
    "Corrige el formato en los encabezados de la tabla.\n"
   ]
  },
  {
   "cell_type": "markdown",
   "metadata": {
    "id": "dIaKXr29_Zct"
   },
   "source": [
    "### Estilo del encabezado <a id='header_style'></a>\n",
    "Muestra los encabezados de la tabla (los nombres de las columnas):"
   ]
  },
  {
   "cell_type": "code",
   "execution_count": 5,
   "metadata": {
    "id": "oKOTdF_Q_Zct"
   },
   "outputs": [
    {
     "name": "stdout",
     "output_type": "stream",
     "text": [
      "Index(['  userID', 'Track', 'artist', 'genre', '  City  ', 'time', 'Day'], dtype='object')\n"
     ]
    }
   ],
   "source": [
    "# Muestra los nombres de las columnas\n",
    "\n",
    "print (df.columns)\n"
   ]
  },
  {
   "cell_type": "markdown",
   "metadata": {
    "id": "zj5534cv_Zct"
   },
   "source": [
    "Cambia los encabezados de la tabla de acuerdo con las reglas del buen estilo:\n",
    "* Todos los caracteres deben ser minúsculas.\n",
    "* Elimina los espacios.\n",
    "* Si el nombre tiene varias palabras, utiliza snake_case."
   ]
  },
  {
   "cell_type": "markdown",
   "metadata": {
    "id": "Xu0zkfe5zNJe"
   },
   "source": [
    "Anteriormente, aprendiste acerca de la forma automática de cambiar el nombre de las columnas. Vamos a aplicarla ahora. Utiliza el bucle for para iterar sobre los nombres de las columnas y poner todos los caracteres en minúsculas. Cuando hayas terminado, vuelve a mostrar los encabezados de la tabla:"
   ]
  },
  {
   "cell_type": "code",
   "execution_count": 6,
   "metadata": {
    "id": "6I_RwwMhzM4e"
   },
   "outputs": [
    {
     "name": "stdout",
     "output_type": "stream",
     "text": [
      "Index(['  userid', 'track', 'artist', 'genre', '  city  ', 'time', 'day'], dtype='object')\n"
     ]
    }
   ],
   "source": [
    "# Bucle en los encabezados poniendo todo en minúsculas\n",
    "'''\n",
    "df_new_names = df.rename (columns ={\n",
    "    '  userID' : 'user_id',\n",
    "    'Track' : 'track',\n",
    "    '  City  ':'city',\n",
    "    'Day':'day'\n",
    "})\n",
    "\n",
    "print (df_new_names.columns)\n",
    "'''\n",
    "new_colums = df.columns.str.lower()\n",
    "\n",
    "df.columns = new_colums\n",
    "\n",
    "print(df.columns)"
   ]
  },
  {
   "cell_type": "markdown",
   "metadata": {
    "id": "pweIRxjSzPYW"
   },
   "source": [
    "Ahora, utilizando el mismo método, elimina los espacios al principio y al final de los nombres de las columnas e imprime los nombres de las columnas nuevamente:"
   ]
  },
  {
   "cell_type": "code",
   "execution_count": 7,
   "metadata": {
    "id": "vVQXbFyJzSYl"
   },
   "outputs": [
    {
     "name": "stdout",
     "output_type": "stream",
     "text": [
      "Index(['userid', 'track', 'artist', 'genre', 'city', 'time', 'day'], dtype='object')\n"
     ]
    }
   ],
   "source": [
    "# Bucle en los encabezados eliminando los espacios\n",
    "\n",
    "new_colums = df.columns.str.strip()\n",
    "\n",
    "df.columns = new_colums\n",
    "\n",
    "print(df.columns)\n"
   ]
  },
  {
   "cell_type": "markdown",
   "metadata": {
    "id": "yCb8MW1JzURd"
   },
   "source": [
    "Necesitamos aplicar la regla de snake_case a la columna `userid`. Debe ser `user_id`. Cambia el nombre de esta columna y muestra los nombres de todas las columnas cuando hayas terminado."
   ]
  },
  {
   "cell_type": "code",
   "execution_count": 8,
   "metadata": {
    "id": "ISlFqs5y_Zct"
   },
   "outputs": [
    {
     "name": "stdout",
     "output_type": "stream",
     "text": [
      "Index(['user_id', 'track', 'artist', 'genre', 'city', 'time', 'day'], dtype='object')\n"
     ]
    }
   ],
   "source": [
    "# Cambiar el nombre de la columna \"userid\"\n",
    "\n",
    "df.rename (columns ={\n",
    "    'userid' : 'user_id'\n",
    "    }, inplace = True)\n",
    "\n",
    "print (df.columns)\n",
    "\n"
   ]
  },
  {
   "cell_type": "markdown",
   "metadata": {
    "id": "1dqbh00J_Zct"
   },
   "source": [
    "Comprueba el resultado. Muestra los encabezados una vez más:"
   ]
  },
  {
   "cell_type": "code",
   "execution_count": 9,
   "metadata": {
    "id": "d4NOAmTW_Zct"
   },
   "outputs": [
    {
     "name": "stdout",
     "output_type": "stream",
     "text": [
      "Index(['user_id', 'track', 'artist', 'genre', 'city', 'time', 'day'], dtype='object')\n"
     ]
    }
   ],
   "source": [
    "# Comprobar el resultado: la lista de encabezados\n",
    "\n",
    "\n",
    "print (df.columns)\n"
   ]
  },
  {
   "cell_type": "markdown",
   "metadata": {},
   "source": [
    "<div class=\"alert alert-block alert-success\"> \n",
    "<b>Comentario del Revisor #4</b> <a class=\"tocSkip\"></a>\n",
    "\n",
    "Excelente! Has renombrado los encabezados de manera correcta, obteniendo la lista exacta de `['user_id', 'track', 'artist', 'genre', 'city', 'time', 'day']`. Tener encabezados claros y bien nombrados facilita la manipulación y el análisis posterior del dataset. ¡Buen trabajo!\n",
    "\n",
    "</div>"
   ]
  },
  {
   "cell_type": "markdown",
   "metadata": {
    "id": "xYJk6ksJVpOl"
   },
   "source": [
    "[Volver a Contenidos](#back)"
   ]
  },
  {
   "cell_type": "markdown",
   "metadata": {
    "id": "5ISfbcfY_Zct"
   },
   "source": [
    "### Valores ausentes <a id='missing_values'></a>\n",
    " Primero, encuentra el número de valores ausentes en la tabla. Debes utilizar dos métodos en una secuencia para obtener el número de valores ausentes."
   ]
  },
  {
   "cell_type": "code",
   "execution_count": 10,
   "metadata": {
    "id": "RskX29qr_Zct"
   },
   "outputs": [
    {
     "name": "stdout",
     "output_type": "stream",
     "text": [
      "user_id       0\n",
      "track      1343\n",
      "artist     7567\n",
      "genre      1198\n",
      "city          0\n",
      "time          0\n",
      "day           0\n",
      "dtype: int64\n"
     ]
    }
   ],
   "source": [
    "# Calcular el número de valores ausentes\n",
    "\n",
    "print (df.isna().sum())\n"
   ]
  },
  {
   "cell_type": "markdown",
   "metadata": {},
   "source": [
    "<div class=\"alert alert-block alert-success\"> \n",
    "<b>Comentario del Revisor #4</b> <a class=\"tocSkip\"></a>\n",
    "\n",
    "Muy bien hecho! Has encontrado los valores ausentes en el dataset, lo que es un paso crucial en la limpieza de datos. Identificar los valores faltantes es esencial para tomar decisiones sobre cómo manejarlos, ya que pueden afectar los análisis futuros.\n",
    "\n",
    "</div>"
   ]
  },
  {
   "cell_type": "markdown",
   "metadata": {
    "id": "qubhgnlO_Zct"
   },
   "source": [
    "No todos los valores ausentes afectan a la investigación. Por ejemplo, los valores ausentes en `track` y `artist` no son cruciales. Simplemente puedes reemplazarlos con valores predeterminados como el string `'unknown'` (desconocido).\n",
    "\n",
    "Pero los valores ausentes en `'genre'` pueden afectar la comparación entre las preferencias musicales de Springfield y Shelbyville. En la vida real, sería útil saber las razones por las cuales hay datos ausentes e intentar recuperarlos. Pero no tenemos esa oportunidad en este proyecto. Así que tendrás que:\n",
    "* rellenar estos valores ausentes con un valor predeterminado;\n",
    "* evaluar cuánto podrían afectar los valores ausentes a tus cómputos;"
   ]
  },
  {
   "cell_type": "markdown",
   "metadata": {
    "id": "fSv2laPA_Zct"
   },
   "source": [
    "Reemplazar los valores ausentes en las columnas `'track'`, `'artist'` y `'genre'` con el string `'unknown'`. Como mostramos anteriormente en las lecciones, la mejor forma de hacerlo es crear una lista que almacene los nombres de las columnas donde se necesita el reemplazo. Luego, utiliza esta lista e itera sobre las columnas donde se necesita el reemplazo haciendo el propio reemplazo."
   ]
  },
  {
   "cell_type": "code",
   "execution_count": 11,
   "metadata": {
    "id": "KplB5qWs_Zct"
   },
   "outputs": [
    {
     "data": {
      "text/html": [
       "<div>\n",
       "<style scoped>\n",
       "    .dataframe tbody tr th:only-of-type {\n",
       "        vertical-align: middle;\n",
       "    }\n",
       "\n",
       "    .dataframe tbody tr th {\n",
       "        vertical-align: top;\n",
       "    }\n",
       "\n",
       "    .dataframe thead th {\n",
       "        text-align: right;\n",
       "    }\n",
       "</style>\n",
       "<table border=\"1\" class=\"dataframe\">\n",
       "  <thead>\n",
       "    <tr style=\"text-align: right;\">\n",
       "      <th></th>\n",
       "      <th>user_id</th>\n",
       "      <th>track</th>\n",
       "      <th>artist</th>\n",
       "      <th>genre</th>\n",
       "      <th>city</th>\n",
       "      <th>time</th>\n",
       "      <th>day</th>\n",
       "    </tr>\n",
       "  </thead>\n",
       "  <tbody>\n",
       "    <tr>\n",
       "      <th>0</th>\n",
       "      <td>FFB692EC</td>\n",
       "      <td>Kamigata To Boots</td>\n",
       "      <td>The Mass Missile</td>\n",
       "      <td>rock</td>\n",
       "      <td>Shelbyville</td>\n",
       "      <td>20:28:33</td>\n",
       "      <td>Wednesday</td>\n",
       "    </tr>\n",
       "    <tr>\n",
       "      <th>1</th>\n",
       "      <td>55204538</td>\n",
       "      <td>Delayed Because of Accident</td>\n",
       "      <td>Andreas Rönnberg</td>\n",
       "      <td>rock</td>\n",
       "      <td>Springfield</td>\n",
       "      <td>14:07:09</td>\n",
       "      <td>Friday</td>\n",
       "    </tr>\n",
       "    <tr>\n",
       "      <th>2</th>\n",
       "      <td>20EC38</td>\n",
       "      <td>Funiculì funiculà</td>\n",
       "      <td>Mario Lanza</td>\n",
       "      <td>pop</td>\n",
       "      <td>Shelbyville</td>\n",
       "      <td>20:58:07</td>\n",
       "      <td>Wednesday</td>\n",
       "    </tr>\n",
       "    <tr>\n",
       "      <th>3</th>\n",
       "      <td>A3DD03C9</td>\n",
       "      <td>Dragons in the Sunset</td>\n",
       "      <td>Fire + Ice</td>\n",
       "      <td>folk</td>\n",
       "      <td>Shelbyville</td>\n",
       "      <td>08:37:09</td>\n",
       "      <td>Monday</td>\n",
       "    </tr>\n",
       "    <tr>\n",
       "      <th>4</th>\n",
       "      <td>E2DC1FAE</td>\n",
       "      <td>Soul People</td>\n",
       "      <td>Space Echo</td>\n",
       "      <td>dance</td>\n",
       "      <td>Springfield</td>\n",
       "      <td>08:34:34</td>\n",
       "      <td>Monday</td>\n",
       "    </tr>\n",
       "    <tr>\n",
       "      <th>...</th>\n",
       "      <td>...</td>\n",
       "      <td>...</td>\n",
       "      <td>...</td>\n",
       "      <td>...</td>\n",
       "      <td>...</td>\n",
       "      <td>...</td>\n",
       "      <td>...</td>\n",
       "    </tr>\n",
       "    <tr>\n",
       "      <th>65074</th>\n",
       "      <td>729CBB09</td>\n",
       "      <td>My Name</td>\n",
       "      <td>McLean</td>\n",
       "      <td>rnb</td>\n",
       "      <td>Springfield</td>\n",
       "      <td>13:32:28</td>\n",
       "      <td>Wednesday</td>\n",
       "    </tr>\n",
       "    <tr>\n",
       "      <th>65075</th>\n",
       "      <td>D08D4A55</td>\n",
       "      <td>Maybe One Day (feat. Black Spade)</td>\n",
       "      <td>Blu &amp; Exile</td>\n",
       "      <td>hip</td>\n",
       "      <td>Shelbyville</td>\n",
       "      <td>10:00:00</td>\n",
       "      <td>Monday</td>\n",
       "    </tr>\n",
       "    <tr>\n",
       "      <th>65076</th>\n",
       "      <td>C5E3A0D5</td>\n",
       "      <td>Jalopiina</td>\n",
       "      <td>unknown</td>\n",
       "      <td>industrial</td>\n",
       "      <td>Springfield</td>\n",
       "      <td>20:09:26</td>\n",
       "      <td>Friday</td>\n",
       "    </tr>\n",
       "    <tr>\n",
       "      <th>65077</th>\n",
       "      <td>321D0506</td>\n",
       "      <td>Freight Train</td>\n",
       "      <td>Chas McDevitt</td>\n",
       "      <td>rock</td>\n",
       "      <td>Springfield</td>\n",
       "      <td>21:43:59</td>\n",
       "      <td>Friday</td>\n",
       "    </tr>\n",
       "    <tr>\n",
       "      <th>65078</th>\n",
       "      <td>3A64EF84</td>\n",
       "      <td>Tell Me Sweet Little Lies</td>\n",
       "      <td>Monica Lopez</td>\n",
       "      <td>country</td>\n",
       "      <td>Springfield</td>\n",
       "      <td>21:59:46</td>\n",
       "      <td>Friday</td>\n",
       "    </tr>\n",
       "  </tbody>\n",
       "</table>\n",
       "<p>65079 rows × 7 columns</p>\n",
       "</div>"
      ],
      "text/plain": [
       "        user_id                              track            artist  \\\n",
       "0      FFB692EC                  Kamigata To Boots  The Mass Missile   \n",
       "1      55204538        Delayed Because of Accident  Andreas Rönnberg   \n",
       "2        20EC38                  Funiculì funiculà       Mario Lanza   \n",
       "3      A3DD03C9              Dragons in the Sunset        Fire + Ice   \n",
       "4      E2DC1FAE                        Soul People        Space Echo   \n",
       "...         ...                                ...               ...   \n",
       "65074  729CBB09                            My Name            McLean   \n",
       "65075  D08D4A55  Maybe One Day (feat. Black Spade)       Blu & Exile   \n",
       "65076  C5E3A0D5                          Jalopiina           unknown   \n",
       "65077  321D0506                      Freight Train     Chas McDevitt   \n",
       "65078  3A64EF84          Tell Me Sweet Little Lies      Monica Lopez   \n",
       "\n",
       "            genre         city      time        day  \n",
       "0            rock  Shelbyville  20:28:33  Wednesday  \n",
       "1            rock  Springfield  14:07:09     Friday  \n",
       "2             pop  Shelbyville  20:58:07  Wednesday  \n",
       "3            folk  Shelbyville  08:37:09     Monday  \n",
       "4           dance  Springfield  08:34:34     Monday  \n",
       "...           ...          ...       ...        ...  \n",
       "65074         rnb  Springfield  13:32:28  Wednesday  \n",
       "65075         hip  Shelbyville  10:00:00     Monday  \n",
       "65076  industrial  Springfield  20:09:26     Friday  \n",
       "65077        rock  Springfield  21:43:59     Friday  \n",
       "65078     country  Springfield  21:59:46     Friday  \n",
       "\n",
       "[65079 rows x 7 columns]"
      ]
     },
     "metadata": {},
     "output_type": "display_data"
    }
   ],
   "source": [
    "# Bucle en los encabezados reemplazando los valores ausentes con 'unknown'\n",
    "\n",
    "\n",
    "columns_to_replace = ['track', 'artist' , 'genre']\n",
    "\n",
    "for col in columns_to_replace:\n",
    "    df[col].fillna ('unknown', inplace=True)\n",
    "\n",
    "\n",
    "display (df)\n"
   ]
  },
  {
   "cell_type": "markdown",
   "metadata": {
    "id": "Ilsm-MZo_Zct"
   },
   "source": [
    "Ahora comprueba el resultado para asegurarte de que después del reemplazo no haya valores ausentes en el conjunto de datos. Para hacer esto, cuenta los valores ausentes nuevamente."
   ]
  },
  {
   "cell_type": "code",
   "execution_count": 12,
   "metadata": {
    "id": "Tq4nYRX4_Zct"
   },
   "outputs": [
    {
     "name": "stdout",
     "output_type": "stream",
     "text": [
      "user_id    0\n",
      "track      0\n",
      "artist     0\n",
      "genre      0\n",
      "city       0\n",
      "time       0\n",
      "day        0\n",
      "dtype: int64\n"
     ]
    }
   ],
   "source": [
    "# Contar valores ausentes\n",
    "\n",
    "    \n",
    "print (df.isna().sum())\n"
   ]
  },
  {
   "cell_type": "markdown",
   "metadata": {},
   "source": [
    "<div class=\"alert alert-block alert-success\"> \n",
    "<b>Comentario del Revisor #4</b> <a class=\"tocSkip\"></a>\n",
    "\n",
    "Has reemplazado correctamente los valores ausentes por `'unknown'`. Esto es una práctica común cuando no se quiere eliminar datos faltantes, permitiendo que sigan siendo útiles para análisis sin afectar el conjunto de datos.\n",
    "\n",
    "</div>"
   ]
  },
  {
   "cell_type": "markdown",
   "metadata": {
    "id": "74ZIBmq9VrsK"
   },
   "source": [
    "[Volver a Contenidos](#back)"
   ]
  },
  {
   "cell_type": "markdown",
   "metadata": {
    "id": "BWKRtBJ3_Zct"
   },
   "source": [
    "### Duplicados <a id='duplicates'></a>\n",
    "Encuentra el número de duplicados explícitos en la tabla. Una vez más, debes aplicar dos métodos en una secuencia para obtener la cantidad de duplicados explícitos."
   ]
  },
  {
   "cell_type": "code",
   "execution_count": 13,
   "metadata": {
    "id": "36eES_S0_Zct"
   },
   "outputs": [
    {
     "name": "stdout",
     "output_type": "stream",
     "text": [
      "3826\n"
     ]
    }
   ],
   "source": [
    "# Contar duplicados explícitos\n",
    "    \n",
    "print (df.duplicated().sum())"
   ]
  },
  {
   "cell_type": "markdown",
   "metadata": {
    "id": "Ot25h6XR_Zct"
   },
   "source": [
    "Ahora, elimina todos los duplicados. Para ello, llama al método que hace exactamente esto."
   ]
  },
  {
   "cell_type": "code",
   "execution_count": 14,
   "metadata": {
    "id": "exFHq6tt_Zct"
   },
   "outputs": [],
   "source": [
    "# Eliminar duplicados explícitos\n",
    "\n",
    "df.drop_duplicates(inplace = True)\n",
    "    "
   ]
  },
  {
   "cell_type": "markdown",
   "metadata": {
    "id": "Im2YwBEG_Zct"
   },
   "source": [
    "Comprobemos ahora si eliminamos con éxito todos los duplicados. Cuenta los duplicados explícitos una vez más para asegurarte de haberlos eliminado todos:"
   ]
  },
  {
   "cell_type": "code",
   "execution_count": 15,
   "metadata": {
    "id": "-8PuNWQ0_Zct"
   },
   "outputs": [
    {
     "name": "stdout",
     "output_type": "stream",
     "text": [
      "0\n"
     ]
    }
   ],
   "source": [
    "# Comprobar de nuevo si hay duplicados\n",
    "\n",
    "print (df.duplicated().sum())"
   ]
  },
  {
   "cell_type": "markdown",
   "metadata": {},
   "source": [
    "<div class=\"alert alert-block alert-success\"> \n",
    "<b>Comentario del Revisor #4</b> <a class=\"tocSkip\"></a>\n",
    "\n",
    "Has encontrado y eliminado correctamente los 3826 duplicados explícitos. Eliminar duplicados es fundamental para evitar que datos repetidos distorsionen los resultados de tu análisis.\n",
    "\n",
    "</div>"
   ]
  },
  {
   "cell_type": "markdown",
   "metadata": {
    "id": "QlFBsxAr_Zct"
   },
   "source": [
    "Ahora queremos deshacernos de los duplicados implícitos en la columna `genre`. Por ejemplo, el nombre de un género se puede escribir de varias formas. Dichos errores también pueden afectar al resultado."
   ]
  },
  {
   "cell_type": "markdown",
   "metadata": {
    "id": "eSjWwsOh_Zct"
   },
   "source": [
    "Para hacerlo, primero mostremos una lista de nombres de género únicos, ordenados en orden alfabético. Para ello:\n",
    "* Extrae la columna `genre` del DataFrame.\n",
    "* Llama al método que devolverá todos los valores únicos en la columna extraída.\n"
   ]
  },
  {
   "cell_type": "code",
   "execution_count": 16,
   "metadata": {
    "id": "JIUcqzZN_Zct"
   },
   "outputs": [
    {
     "data": {
      "text/plain": [
       "['acid',\n",
       " 'acoustic',\n",
       " 'action',\n",
       " 'adult',\n",
       " 'africa',\n",
       " 'afrikaans',\n",
       " 'alternative',\n",
       " 'ambient',\n",
       " 'americana',\n",
       " 'animated',\n",
       " 'anime',\n",
       " 'arabesk',\n",
       " 'arabic',\n",
       " 'arena',\n",
       " 'argentinetango',\n",
       " 'art',\n",
       " 'audiobook',\n",
       " 'avantgarde',\n",
       " 'axé',\n",
       " 'baile',\n",
       " 'balkan',\n",
       " 'beats',\n",
       " 'bigroom',\n",
       " 'black',\n",
       " 'bluegrass',\n",
       " 'blues',\n",
       " 'bollywood',\n",
       " 'bossa',\n",
       " 'brazilian',\n",
       " 'breakbeat',\n",
       " 'breaks',\n",
       " 'broadway',\n",
       " 'cantautori',\n",
       " 'cantopop',\n",
       " 'canzone',\n",
       " 'caribbean',\n",
       " 'caucasian',\n",
       " 'celtic',\n",
       " 'chamber',\n",
       " 'children',\n",
       " 'chill',\n",
       " 'chinese',\n",
       " 'choral',\n",
       " 'christian',\n",
       " 'christmas',\n",
       " 'classical',\n",
       " 'classicmetal',\n",
       " 'club',\n",
       " 'colombian',\n",
       " 'comedy',\n",
       " 'conjazz',\n",
       " 'contemporary',\n",
       " 'country',\n",
       " 'cuban',\n",
       " 'dance',\n",
       " 'dancehall',\n",
       " 'dancepop',\n",
       " 'dark',\n",
       " 'death',\n",
       " 'deep',\n",
       " 'deutschrock',\n",
       " 'deutschspr',\n",
       " 'dirty',\n",
       " 'disco',\n",
       " 'dnb',\n",
       " 'documentary',\n",
       " 'downbeat',\n",
       " 'downtempo',\n",
       " 'drum',\n",
       " 'dub',\n",
       " 'dubstep',\n",
       " 'eastern',\n",
       " 'easy',\n",
       " 'electronic',\n",
       " 'electropop',\n",
       " 'emo',\n",
       " 'entehno',\n",
       " 'epicmetal',\n",
       " 'estrada',\n",
       " 'ethnic',\n",
       " 'eurofolk',\n",
       " 'european',\n",
       " 'experimental',\n",
       " 'extrememetal',\n",
       " 'fado',\n",
       " 'film',\n",
       " 'fitness',\n",
       " 'flamenco',\n",
       " 'folk',\n",
       " 'folklore',\n",
       " 'folkmetal',\n",
       " 'folkrock',\n",
       " 'folktronica',\n",
       " 'forró',\n",
       " 'frankreich',\n",
       " 'französisch',\n",
       " 'french',\n",
       " 'funk',\n",
       " 'future',\n",
       " 'gangsta',\n",
       " 'garage',\n",
       " 'german',\n",
       " 'ghazal',\n",
       " 'gitarre',\n",
       " 'glitch',\n",
       " 'gospel',\n",
       " 'gothic',\n",
       " 'grime',\n",
       " 'grunge',\n",
       " 'gypsy',\n",
       " 'handsup',\n",
       " \"hard'n'heavy\",\n",
       " 'hardcore',\n",
       " 'hardstyle',\n",
       " 'hardtechno',\n",
       " 'hip',\n",
       " 'hip-hop',\n",
       " 'hiphop',\n",
       " 'historisch',\n",
       " 'holiday',\n",
       " 'hop',\n",
       " 'horror',\n",
       " 'house',\n",
       " 'idm',\n",
       " 'independent',\n",
       " 'indian',\n",
       " 'indie',\n",
       " 'indipop',\n",
       " 'industrial',\n",
       " 'inspirational',\n",
       " 'instrumental',\n",
       " 'international',\n",
       " 'irish',\n",
       " 'jam',\n",
       " 'japanese',\n",
       " 'jazz',\n",
       " 'jewish',\n",
       " 'jpop',\n",
       " 'jungle',\n",
       " 'k-pop',\n",
       " 'karadeniz',\n",
       " 'karaoke',\n",
       " 'kayokyoku',\n",
       " 'korean',\n",
       " 'laiko',\n",
       " 'latin',\n",
       " 'latino',\n",
       " 'leftfield',\n",
       " 'local',\n",
       " 'lounge',\n",
       " 'loungeelectronic',\n",
       " 'lovers',\n",
       " 'malaysian',\n",
       " 'mandopop',\n",
       " 'marschmusik',\n",
       " 'meditative',\n",
       " 'mediterranean',\n",
       " 'melodic',\n",
       " 'metal',\n",
       " 'metalcore',\n",
       " 'mexican',\n",
       " 'middle',\n",
       " 'minimal',\n",
       " 'miscellaneous',\n",
       " 'modern',\n",
       " 'mood',\n",
       " 'mpb',\n",
       " 'muslim',\n",
       " 'native',\n",
       " 'neoklassik',\n",
       " 'neue',\n",
       " 'new',\n",
       " 'newage',\n",
       " 'newwave',\n",
       " 'nu',\n",
       " 'nujazz',\n",
       " 'numetal',\n",
       " 'oceania',\n",
       " 'old',\n",
       " 'opera',\n",
       " 'orchestral',\n",
       " 'other',\n",
       " 'piano',\n",
       " 'pop',\n",
       " 'popelectronic',\n",
       " 'popeurodance',\n",
       " 'post',\n",
       " 'posthardcore',\n",
       " 'postrock',\n",
       " 'power',\n",
       " 'progmetal',\n",
       " 'progressive',\n",
       " 'psychedelic',\n",
       " 'punjabi',\n",
       " 'punk',\n",
       " 'quebecois',\n",
       " 'ragga',\n",
       " 'ram',\n",
       " 'rancheras',\n",
       " 'rap',\n",
       " 'rave',\n",
       " 'reggae',\n",
       " 'reggaeton',\n",
       " 'regional',\n",
       " 'relax',\n",
       " 'religious',\n",
       " 'retro',\n",
       " 'rhythm',\n",
       " 'rnb',\n",
       " 'rnr',\n",
       " 'rock',\n",
       " 'rockabilly',\n",
       " 'romance',\n",
       " 'roots',\n",
       " 'ruspop',\n",
       " 'rusrap',\n",
       " 'rusrock',\n",
       " 'salsa',\n",
       " 'samba',\n",
       " 'schlager',\n",
       " 'self',\n",
       " 'sertanejo',\n",
       " 'shoegazing',\n",
       " 'showtunes',\n",
       " 'singer',\n",
       " 'ska',\n",
       " 'slow',\n",
       " 'smooth',\n",
       " 'soul',\n",
       " 'soulful',\n",
       " 'sound',\n",
       " 'soundtrack',\n",
       " 'southern',\n",
       " 'specialty',\n",
       " 'speech',\n",
       " 'spiritual',\n",
       " 'sport',\n",
       " 'stonerrock',\n",
       " 'surf',\n",
       " 'swing',\n",
       " 'synthpop',\n",
       " 'sängerportrait',\n",
       " 'tango',\n",
       " 'tanzorchester',\n",
       " 'taraftar',\n",
       " 'tech',\n",
       " 'techno',\n",
       " 'thrash',\n",
       " 'top',\n",
       " 'traditional',\n",
       " 'tradjazz',\n",
       " 'trance',\n",
       " 'tribal',\n",
       " 'trip',\n",
       " 'triphop',\n",
       " 'tropical',\n",
       " 'türk',\n",
       " 'türkçe',\n",
       " 'unknown',\n",
       " 'urban',\n",
       " 'uzbek',\n",
       " 'variété',\n",
       " 'vi',\n",
       " 'videogame',\n",
       " 'vocal',\n",
       " 'western',\n",
       " 'world',\n",
       " 'worldbeat',\n",
       " 'ïîï']"
      ]
     },
     "execution_count": 16,
     "metadata": {},
     "output_type": "execute_result"
    }
   ],
   "source": [
    "# Inspeccionar los nombres de géneros únicos\n",
    "\n",
    "sorted (df['genre'].unique())\n"
   ]
  },
  {
   "cell_type": "markdown",
   "metadata": {
    "id": "qej-Qmuo_Zct"
   },
   "source": [
    "Busca en la lista para encontrar duplicados implícitos del género `hiphop`. Estos pueden ser nombres escritos incorrectamente o nombres alternativos para el mismo género.\n",
    "\n",
    "Verás los siguientes duplicados implícitos:\n",
    "* `hip`\n",
    "* `hop`\n",
    "* `hip-hop`\n",
    "\n",
    "Para deshacerte de ellos, crea una función llamada `replace_wrong_genres()` con dos parámetros:\n",
    "* `wrong_genres=`: esta es una lista que contiene todos los valores que necesitas reemplazar.\n",
    "* `correct_genre=`: este es un string que vas a utilizar como reemplazo.\n",
    "\n",
    "Como resultado, la función debería corregir los nombres en la columna `'genre'` de la tabla `df`, es decir, remplazar cada valor de la lista `wrong_genres` por el valor en `correct_genre`.\n",
    "\n",
    "Dentro del cuerpo de la función, utiliza un bucle `'for'` para iterar sobre la lista de géneros incorrectos, extrae la columna `'genre'` y aplica el método `replace` para hacer correcciones."
   ]
  },
  {
   "cell_type": "code",
   "execution_count": 17,
   "metadata": {
    "id": "ErNDkmns_Zct"
   },
   "outputs": [],
   "source": [
    "# Función para reemplazar duplicados implícitos\n",
    "\n",
    "def replace_wrong_genres(wrong_genres, correct_genre):\n",
    "    for wrong_genre in wrong_genres:\n",
    "        df['genre'].replace(wrong_genre, correct_genre, inplace=True)\n",
    "\n",
    "hiphop_variations = ['hip', 'hop', 'hip-hop']\n",
    "\n",
    "\n"
   ]
  },
  {
   "cell_type": "markdown",
   "metadata": {
    "id": "aDoBJxbA_Zct"
   },
   "source": [
    "Ahora, llama a `replace_wrong_genres()` y pásale tales argumentos para que retire los duplicados implícitos (`hip`, `hop` y `hip-hop`) y los reemplace por `hiphop`:"
   ]
  },
  {
   "cell_type": "code",
   "execution_count": 18,
   "metadata": {
    "id": "YN5i2hpmSo09"
   },
   "outputs": [],
   "source": [
    "# Eliminar duplicados implícitos\n",
    "\n",
    "\n",
    "replace_wrong_genres(hiphop_variations, 'hiphop')\n"
   ]
  },
  {
   "cell_type": "markdown",
   "metadata": {
    "id": "zQKF16_RG15m"
   },
   "source": [
    "Asegúrate de que los nombres duplicados han sido eliminados. Muestra la lista de valores únicos de la columna `'genre'` una vez más:"
   ]
  },
  {
   "cell_type": "code",
   "execution_count": 19,
   "metadata": {
    "id": "wvixALnFG15m"
   },
   "outputs": [
    {
     "data": {
      "text/plain": [
       "['acid',\n",
       " 'acoustic',\n",
       " 'action',\n",
       " 'adult',\n",
       " 'africa',\n",
       " 'afrikaans',\n",
       " 'alternative',\n",
       " 'ambient',\n",
       " 'americana',\n",
       " 'animated',\n",
       " 'anime',\n",
       " 'arabesk',\n",
       " 'arabic',\n",
       " 'arena',\n",
       " 'argentinetango',\n",
       " 'art',\n",
       " 'audiobook',\n",
       " 'avantgarde',\n",
       " 'axé',\n",
       " 'baile',\n",
       " 'balkan',\n",
       " 'beats',\n",
       " 'bigroom',\n",
       " 'black',\n",
       " 'bluegrass',\n",
       " 'blues',\n",
       " 'bollywood',\n",
       " 'bossa',\n",
       " 'brazilian',\n",
       " 'breakbeat',\n",
       " 'breaks',\n",
       " 'broadway',\n",
       " 'cantautori',\n",
       " 'cantopop',\n",
       " 'canzone',\n",
       " 'caribbean',\n",
       " 'caucasian',\n",
       " 'celtic',\n",
       " 'chamber',\n",
       " 'children',\n",
       " 'chill',\n",
       " 'chinese',\n",
       " 'choral',\n",
       " 'christian',\n",
       " 'christmas',\n",
       " 'classical',\n",
       " 'classicmetal',\n",
       " 'club',\n",
       " 'colombian',\n",
       " 'comedy',\n",
       " 'conjazz',\n",
       " 'contemporary',\n",
       " 'country',\n",
       " 'cuban',\n",
       " 'dance',\n",
       " 'dancehall',\n",
       " 'dancepop',\n",
       " 'dark',\n",
       " 'death',\n",
       " 'deep',\n",
       " 'deutschrock',\n",
       " 'deutschspr',\n",
       " 'dirty',\n",
       " 'disco',\n",
       " 'dnb',\n",
       " 'documentary',\n",
       " 'downbeat',\n",
       " 'downtempo',\n",
       " 'drum',\n",
       " 'dub',\n",
       " 'dubstep',\n",
       " 'eastern',\n",
       " 'easy',\n",
       " 'electronic',\n",
       " 'electropop',\n",
       " 'emo',\n",
       " 'entehno',\n",
       " 'epicmetal',\n",
       " 'estrada',\n",
       " 'ethnic',\n",
       " 'eurofolk',\n",
       " 'european',\n",
       " 'experimental',\n",
       " 'extrememetal',\n",
       " 'fado',\n",
       " 'film',\n",
       " 'fitness',\n",
       " 'flamenco',\n",
       " 'folk',\n",
       " 'folklore',\n",
       " 'folkmetal',\n",
       " 'folkrock',\n",
       " 'folktronica',\n",
       " 'forró',\n",
       " 'frankreich',\n",
       " 'französisch',\n",
       " 'french',\n",
       " 'funk',\n",
       " 'future',\n",
       " 'gangsta',\n",
       " 'garage',\n",
       " 'german',\n",
       " 'ghazal',\n",
       " 'gitarre',\n",
       " 'glitch',\n",
       " 'gospel',\n",
       " 'gothic',\n",
       " 'grime',\n",
       " 'grunge',\n",
       " 'gypsy',\n",
       " 'handsup',\n",
       " \"hard'n'heavy\",\n",
       " 'hardcore',\n",
       " 'hardstyle',\n",
       " 'hardtechno',\n",
       " 'hiphop',\n",
       " 'historisch',\n",
       " 'holiday',\n",
       " 'horror',\n",
       " 'house',\n",
       " 'idm',\n",
       " 'independent',\n",
       " 'indian',\n",
       " 'indie',\n",
       " 'indipop',\n",
       " 'industrial',\n",
       " 'inspirational',\n",
       " 'instrumental',\n",
       " 'international',\n",
       " 'irish',\n",
       " 'jam',\n",
       " 'japanese',\n",
       " 'jazz',\n",
       " 'jewish',\n",
       " 'jpop',\n",
       " 'jungle',\n",
       " 'k-pop',\n",
       " 'karadeniz',\n",
       " 'karaoke',\n",
       " 'kayokyoku',\n",
       " 'korean',\n",
       " 'laiko',\n",
       " 'latin',\n",
       " 'latino',\n",
       " 'leftfield',\n",
       " 'local',\n",
       " 'lounge',\n",
       " 'loungeelectronic',\n",
       " 'lovers',\n",
       " 'malaysian',\n",
       " 'mandopop',\n",
       " 'marschmusik',\n",
       " 'meditative',\n",
       " 'mediterranean',\n",
       " 'melodic',\n",
       " 'metal',\n",
       " 'metalcore',\n",
       " 'mexican',\n",
       " 'middle',\n",
       " 'minimal',\n",
       " 'miscellaneous',\n",
       " 'modern',\n",
       " 'mood',\n",
       " 'mpb',\n",
       " 'muslim',\n",
       " 'native',\n",
       " 'neoklassik',\n",
       " 'neue',\n",
       " 'new',\n",
       " 'newage',\n",
       " 'newwave',\n",
       " 'nu',\n",
       " 'nujazz',\n",
       " 'numetal',\n",
       " 'oceania',\n",
       " 'old',\n",
       " 'opera',\n",
       " 'orchestral',\n",
       " 'other',\n",
       " 'piano',\n",
       " 'pop',\n",
       " 'popelectronic',\n",
       " 'popeurodance',\n",
       " 'post',\n",
       " 'posthardcore',\n",
       " 'postrock',\n",
       " 'power',\n",
       " 'progmetal',\n",
       " 'progressive',\n",
       " 'psychedelic',\n",
       " 'punjabi',\n",
       " 'punk',\n",
       " 'quebecois',\n",
       " 'ragga',\n",
       " 'ram',\n",
       " 'rancheras',\n",
       " 'rap',\n",
       " 'rave',\n",
       " 'reggae',\n",
       " 'reggaeton',\n",
       " 'regional',\n",
       " 'relax',\n",
       " 'religious',\n",
       " 'retro',\n",
       " 'rhythm',\n",
       " 'rnb',\n",
       " 'rnr',\n",
       " 'rock',\n",
       " 'rockabilly',\n",
       " 'romance',\n",
       " 'roots',\n",
       " 'ruspop',\n",
       " 'rusrap',\n",
       " 'rusrock',\n",
       " 'salsa',\n",
       " 'samba',\n",
       " 'schlager',\n",
       " 'self',\n",
       " 'sertanejo',\n",
       " 'shoegazing',\n",
       " 'showtunes',\n",
       " 'singer',\n",
       " 'ska',\n",
       " 'slow',\n",
       " 'smooth',\n",
       " 'soul',\n",
       " 'soulful',\n",
       " 'sound',\n",
       " 'soundtrack',\n",
       " 'southern',\n",
       " 'specialty',\n",
       " 'speech',\n",
       " 'spiritual',\n",
       " 'sport',\n",
       " 'stonerrock',\n",
       " 'surf',\n",
       " 'swing',\n",
       " 'synthpop',\n",
       " 'sängerportrait',\n",
       " 'tango',\n",
       " 'tanzorchester',\n",
       " 'taraftar',\n",
       " 'tech',\n",
       " 'techno',\n",
       " 'thrash',\n",
       " 'top',\n",
       " 'traditional',\n",
       " 'tradjazz',\n",
       " 'trance',\n",
       " 'tribal',\n",
       " 'trip',\n",
       " 'triphop',\n",
       " 'tropical',\n",
       " 'türk',\n",
       " 'türkçe',\n",
       " 'unknown',\n",
       " 'urban',\n",
       " 'uzbek',\n",
       " 'variété',\n",
       " 'vi',\n",
       " 'videogame',\n",
       " 'vocal',\n",
       " 'western',\n",
       " 'world',\n",
       " 'worldbeat',\n",
       " 'ïîï']"
      ]
     },
     "execution_count": 19,
     "metadata": {},
     "output_type": "execute_result"
    }
   ],
   "source": [
    "# Comprobación de duplicados implícitos\n",
    "\n",
    "sorted (df['genre'].unique())"
   ]
  },
  {
   "cell_type": "markdown",
   "metadata": {},
   "source": [
    "<div class=\"alert alert-block alert-success\"> \n",
    "<b>Comentario del Revisor #4</b> <a class=\"tocSkip\"></a>\n",
    "\n",
    "Has identificado y corregido los duplicados implícitos correctamente. Este tipo de duplicados pueden ser más difíciles de encontrar, ya que no son idénticos en todos los campos, pero tratarlos es esencial para asegurar la integridad de los datos.\n",
    "\n",
    "</div>"
   ]
  },
  {
   "cell_type": "markdown",
   "metadata": {
    "id": "ALgNbvF3VtPA"
   },
   "source": [
    "[Volver a Contenidos](#back)"
   ]
  },
  {
   "cell_type": "markdown",
   "metadata": {
    "id": "jz6a9-7HQUDd"
   },
   "source": [
    "### Tus observaciones <a id='data_preprocessing_conclusions'></a>\n",
    "\n",
    "`Describe brevemente lo que has notado al analizar duplicados, cómo abordaste sus eliminaciones y qué resultados obtuviste.`\n",
    "\n",
    "que al momento de registrar el genereo hiphop los en cargados de registar dichas entradas colocaban solsamente la mitad del nombre o lo colocaban completo pero con un guion en medio, este tipo de errores no respetan el snake_case del data set y hace que se vea desordenado y tambien genere ciertos errores a la hora del analisis."
   ]
  },
  {
   "cell_type": "markdown",
   "metadata": {},
   "source": [
    "<div class=\"alert alert-block alert-success\"> \n",
    "<b>Comentario del Revisor #4</b> <a class=\"tocSkip\"></a>\n",
    "\n",
    "Correcto! Muy buen trabajo\n",
    "\n",
    "</div>"
   ]
  },
  {
   "cell_type": "markdown",
   "metadata": {
    "id": "eK1es74rVujj"
   },
   "source": [
    "[Volver a Contenidos](#back)"
   ]
  },
  {
   "cell_type": "markdown",
   "metadata": {
    "id": "WttZHXH0SqKk"
   },
   "source": [
    "## Etapa 3. Prueba de hipótesis <a id='hypothesis'></a>"
   ]
  },
  {
   "cell_type": "markdown",
   "metadata": {
    "id": "Im936VVi_Zcu"
   },
   "source": [
    "### Hipótesis: comparar el comportamiento del usuario o la usuaria en las dos ciudades <a id='activity'></a>"
   ]
  },
  {
   "cell_type": "markdown",
   "metadata": {
    "id": "nwt_MuaL_Zcu"
   },
   "source": [
    "La hipótesis afirma que existen diferencias en la forma en que los usuarios y las usuarias de Springfield y Shelbyville consumen música. Para comprobar esto, usa los datos de tres días de la semana: lunes, miércoles y viernes.\n",
    "\n",
    "* Agrupa a los usuarios y las usuarias por ciudad.\n",
    "* Compara el número de canciones que cada grupo reprodujo el lunes, el miércoles y el viernes.\n"
   ]
  },
  {
   "cell_type": "markdown",
   "metadata": {
    "id": "8Dw_YMmT_Zcu"
   },
   "source": [
    "Realiza cada cálculo por separado.\n",
    "\n",
    "El primer paso es evaluar la actividad del usuario en cada ciudad. Recuerda las etapas dividir-aplicar-combinar de las que hablamos anteriormente en la lección. Tu objetivo ahora es agrupar los datos por ciudad, aplicar el método apropiado para contar durante la etapa de aplicación y luego encontrar la cantidad de canciones reproducidas en cada grupo especificando la columna para obtener el recuento.\n",
    "\n",
    "A continuación se muestra un ejemplo de cómo debería verse el resultado final:\n",
    "`df.groupby(by='....')['column'].method()`Realiza cada cálculo por separado.\n",
    "\n",
    "Para evaluar la actividad de los usuarios y las usuarias en cada ciudad, agrupa los datos por ciudad y encuentra la cantidad de canciones reproducidas en cada grupo.\n",
    "\n"
   ]
  },
  {
   "cell_type": "code",
   "execution_count": 20,
   "metadata": {
    "id": "0_Qs96oh_Zcu"
   },
   "outputs": [
    {
     "data": {
      "text/html": [
       "<div>\n",
       "<style scoped>\n",
       "    .dataframe tbody tr th:only-of-type {\n",
       "        vertical-align: middle;\n",
       "    }\n",
       "\n",
       "    .dataframe tbody tr th {\n",
       "        vertical-align: top;\n",
       "    }\n",
       "\n",
       "    .dataframe thead th {\n",
       "        text-align: right;\n",
       "    }\n",
       "</style>\n",
       "<table border=\"1\" class=\"dataframe\">\n",
       "  <thead>\n",
       "    <tr style=\"text-align: right;\">\n",
       "      <th></th>\n",
       "      <th>city</th>\n",
       "      <th>conteo</th>\n",
       "    </tr>\n",
       "  </thead>\n",
       "  <tbody>\n",
       "    <tr>\n",
       "      <th>0</th>\n",
       "      <td>Shelbyville</td>\n",
       "      <td>18512</td>\n",
       "    </tr>\n",
       "    <tr>\n",
       "      <th>1</th>\n",
       "      <td>Springfield</td>\n",
       "      <td>42741</td>\n",
       "    </tr>\n",
       "  </tbody>\n",
       "</table>\n",
       "</div>"
      ],
      "text/plain": [
       "          city  conteo\n",
       "0  Shelbyville   18512\n",
       "1  Springfield   42741"
      ]
     },
     "execution_count": 20,
     "metadata": {},
     "output_type": "execute_result"
    }
   ],
   "source": [
    "# Contar las canciones reproducidas en cada ciudad\n",
    "\n",
    "df.groupby (by = 'city')['user_id'].count().reset_index(name = 'conteo')"
   ]
  },
  {
   "cell_type": "markdown",
   "metadata": {},
   "source": [
    "<div class=\"alert alert-block alert-success\"> \n",
    "<b>Comentario del Revisor #4</b> <a class=\"tocSkip\"></a>\n",
    "\n",
    "Perfecto! Has realizado correctamente el conteo de canciones reproducidas en cada ciudad. Esto es clave para analizar la distribución de la actividad musical en diferentes lugares.\n",
    "\n",
    "</div>"
   ]
  },
  {
   "cell_type": "markdown",
   "metadata": {
    "id": "t_Qx-3NewAnK"
   },
   "source": [
    "hay una diferencia notable entre ambas ciudades, podemos ver que en Springflied hay 24.229 reproducciones mas con respecto a Shelbyville."
   ]
  },
  {
   "cell_type": "markdown",
   "metadata": {},
   "source": [
    "<div class=\"alert alert-block alert-success\"> \n",
    "<b>Comentario del Revisor #4</b> <a class=\"tocSkip\"></a>\n",
    "\n",
    "Correcto!\n",
    "\n",
    "</div>"
   ]
  },
  {
   "cell_type": "markdown",
   "metadata": {
    "id": "dzli3w8o_Zcu"
   },
   "source": [
    "Ahora agrupemos los datos por día de la semana y encontremos el número de canciones reproducidas el lunes, miércoles y viernes. Utiliza el mismo método que antes, pero ahora necesitamos una agrupación diferente.\n"
   ]
  },
  {
   "cell_type": "code",
   "execution_count": 21,
   "metadata": {
    "id": "uZMKjiJz_Zcu"
   },
   "outputs": [
    {
     "data": {
      "text/html": [
       "<div>\n",
       "<style scoped>\n",
       "    .dataframe tbody tr th:only-of-type {\n",
       "        vertical-align: middle;\n",
       "    }\n",
       "\n",
       "    .dataframe tbody tr th {\n",
       "        vertical-align: top;\n",
       "    }\n",
       "\n",
       "    .dataframe thead th {\n",
       "        text-align: right;\n",
       "    }\n",
       "</style>\n",
       "<table border=\"1\" class=\"dataframe\">\n",
       "  <thead>\n",
       "    <tr style=\"text-align: right;\">\n",
       "      <th></th>\n",
       "      <th>day</th>\n",
       "      <th>conteo</th>\n",
       "    </tr>\n",
       "  </thead>\n",
       "  <tbody>\n",
       "    <tr>\n",
       "      <th>0</th>\n",
       "      <td>Friday</td>\n",
       "      <td>21840</td>\n",
       "    </tr>\n",
       "    <tr>\n",
       "      <th>1</th>\n",
       "      <td>Monday</td>\n",
       "      <td>21354</td>\n",
       "    </tr>\n",
       "    <tr>\n",
       "      <th>2</th>\n",
       "      <td>Wednesday</td>\n",
       "      <td>18059</td>\n",
       "    </tr>\n",
       "  </tbody>\n",
       "</table>\n",
       "</div>"
      ],
      "text/plain": [
       "         day  conteo\n",
       "0     Friday   21840\n",
       "1     Monday   21354\n",
       "2  Wednesday   18059"
      ]
     },
     "execution_count": 21,
     "metadata": {},
     "output_type": "execute_result"
    }
   ],
   "source": [
    "# Calcular las canciones reproducidas en cada uno de los tres días\n",
    "\n",
    "df.groupby (by = 'day')['user_id'].count().reset_index(name = 'conteo')"
   ]
  },
  {
   "cell_type": "markdown",
   "metadata": {},
   "source": [
    "<div class=\"alert alert-block alert-success\"> \n",
    "<b>Comentario del Revisor #4</b> <a class=\"tocSkip\"></a>\n",
    "\n",
    "El conteo de las canciones reproducidas por día es correcto.\n",
    "</div>"
   ]
  },
  {
   "cell_type": "markdown",
   "metadata": {
    "id": "cC2tNrlL_Zcu"
   },
   "source": [
    "con este resultado podemos ver que el dia viernes es el dia preferido por los usuarios para escucha musica, la dferencia no es mucha si se compara con el dia lunes, pero con resspecto al miercoles si hay una brcha importante."
   ]
  },
  {
   "cell_type": "markdown",
   "metadata": {
    "id": "POzs8bGa_Zcu"
   },
   "source": [
    "Ya sabes cómo contar entradas agrupándolas por ciudad o día. Ahora necesitas escribir una función que pueda contar entradas según ambos criterios simultáneamente.\n",
    "\n",
    "Crea la función `number_tracks()` para calcular el número de canciones reproducidas en un determinado día **y** ciudad. La función debe aceptar dos parámetros:\n",
    "\n",
    "- `day`: un día de la semana para filtrar. Por ejemplo, `'Monday'` (lunes).\n",
    "- `city`: una ciudad para filtrar. Por ejemplo, `'Springfield'`.\n",
    "\n",
    "Dentro de la función, aplicarás un filtrado consecutivo con indexación lógica.\n",
    "\n",
    "Primero filtra los datos por día y luego filtra la tabla resultante por ciudad.\n",
    "\n",
    "Después de filtrar los datos por dos criterios, cuenta el número de valores de la columna 'user_id' en la tabla resultante. Este recuento representa el número de entradas que estás buscando. Guarda el resultado en una nueva variable y devuélvelo desde la función."
   ]
  },
  {
   "cell_type": "code",
   "execution_count": 22,
   "metadata": {
    "id": "Nz3GdQB1_Zcu"
   },
   "outputs": [],
   "source": [
    "\n",
    "# Declara la función number_tracks() con dos parámetros: day= y city=.\n",
    "\n",
    "def number_tracks(day, city):\n",
    "\n",
    "    # Almacena las filas del DataFrame donde el valor en la columna 'day' es igual al parámetro day=\n",
    "    \n",
    "    filtered_by_day = df[df['day'] == day]\n",
    "\n",
    "    # Filtra las filas donde el valor en la columna 'city' es igual al parámetro city=\n",
    "    \n",
    "    filtered_by_city = filtered_by_day[filtered_by_day['city'] == city]\n",
    "\n",
    "    # Extrae la columna 'user_id' de la tabla filtrada y aplica el método count()\n",
    "    \n",
    "    track_count = filtered_by_city['user_id'].count()\n",
    "\n",
    "    # Devolve el número de valores de la columna 'user_id'\n",
    "    \n",
    "    return track_count\n",
    "    \n"
   ]
  },
  {
   "cell_type": "markdown",
   "metadata": {},
   "source": [
    "<div class=\"alert alert-block alert-success\"> \n",
    "<b>Comentario del Revisor #4</b> <a class=\"tocSkip\"></a>\n",
    "\n",
    "Definiste correctamente la función para contar las canciones reproducidas en un día específico y ciudad.\n",
    "\n",
    "</div>"
   ]
  },
  {
   "cell_type": "markdown",
   "metadata": {
    "id": "ytf7xFrFJQ2r"
   },
   "source": [
    "Llama a `number_tracks()` seis veces, cambiando los valores de los parámetros para que recuperes los datos de ambas ciudades para cada uno de los tres días."
   ]
  },
  {
   "cell_type": "code",
   "execution_count": 23,
   "metadata": {
    "id": "rJcRATNQ_Zcu"
   },
   "outputs": [
    {
     "name": "stdout",
     "output_type": "stream",
     "text": [
      "15740\n"
     ]
    }
   ],
   "source": [
    "# El número de canciones reproducidas en Springfield el lunes\n",
    "\n",
    "\n",
    "print(number_tracks('Monday', 'Springfield'))\n",
    "\n"
   ]
  },
  {
   "cell_type": "code",
   "execution_count": 24,
   "metadata": {
    "id": "hq_ncZ5T_Zcu"
   },
   "outputs": [
    {
     "name": "stdout",
     "output_type": "stream",
     "text": [
      "5614\n"
     ]
    }
   ],
   "source": [
    "# El número de canciones reproducidas en Shelbyville el lunes\n",
    "\n",
    "\n",
    "print(number_tracks('Monday', 'Shelbyville'))\n"
   ]
  },
  {
   "cell_type": "code",
   "execution_count": 25,
   "metadata": {
    "id": "_NTy2VPU_Zcu"
   },
   "outputs": [
    {
     "name": "stdout",
     "output_type": "stream",
     "text": [
      "11056\n"
     ]
    }
   ],
   "source": [
    "# El número de canciones reproducidas en Springfield el miércoles\n",
    "\n",
    "print(number_tracks('Wednesday', 'Springfield'))\n"
   ]
  },
  {
   "cell_type": "code",
   "execution_count": 26,
   "metadata": {
    "id": "j2y3TAwo_Zcu"
   },
   "outputs": [
    {
     "name": "stdout",
     "output_type": "stream",
     "text": [
      "7003\n"
     ]
    }
   ],
   "source": [
    "# El número de canciones reproducidas en Shelbyville el miércoles\n",
    "\n",
    "print(number_tracks('Wednesday', 'Shelbyville'))\n"
   ]
  },
  {
   "cell_type": "code",
   "execution_count": 27,
   "metadata": {
    "id": "vYDw5u_K_Zcu"
   },
   "outputs": [
    {
     "name": "stdout",
     "output_type": "stream",
     "text": [
      "15945\n"
     ]
    }
   ],
   "source": [
    "# El número de canciones reproducidas en Springfield el viernes\n",
    "\n",
    "print(number_tracks('Friday', 'Springfield'))\n"
   ]
  },
  {
   "cell_type": "code",
   "execution_count": 28,
   "metadata": {
    "id": "8_yzFtW3_Zcu"
   },
   "outputs": [
    {
     "name": "stdout",
     "output_type": "stream",
     "text": [
      "5895\n"
     ]
    }
   ],
   "source": [
    "# El número de canciones reproducidas en Shelbyville el viernes\n",
    "\n",
    "print(number_tracks('Friday', 'Shelbyville'))\n"
   ]
  },
  {
   "cell_type": "markdown",
   "metadata": {},
   "source": [
    "<div class=\"alert alert-block alert-success\"> \n",
    "<b>Comentario del Revisor #4</b> <a class=\"tocSkip\"></a>\n",
    "\n",
    "Los conteos obtenidos son los esperados, lo que significa que el análisis está bien realizado. Verificar los resultados es esencial para asegurarte de que todo el proceso se ha llevado a cabo correctamente.\n",
    "\n",
    "</div>"
   ]
  },
  {
   "cell_type": "markdown",
   "metadata": {
    "id": "-EgPIHYu_Zcu"
   },
   "source": [
    "**Conclusiones**\n",
    "\n",
    "`Comenta si la hipótesis es correcta o se debe rechazar. Explica tu razonamiento.`\n",
    "\n",
    "con este resultado podemos ver que el dia viernes es el dia preferido por los usuarios para escucha musica donde podemos ver que la ciudad con mayor consumo de dicho mercado es sin duda alguna Springfield, la diferencia no es mucha si se compara con el dia lunes, pero con respecto al miercoles si hay una brecha importante en ambas ciudades."
   ]
  },
  {
   "cell_type": "markdown",
   "metadata": {},
   "source": [
    "\n",
    "<div class=\"alert alert-block alert-warning\"> \n",
    "<b>Comentario del Revisor #4</b> <a class=\"tocSkip\"></a>\n",
    "\n",
    "Aunque tus comentarios son correctos, no queda claro si has decidido aceptar o no la hipótesis como verdadera.\n",
    "\n",
    "</div>"
   ]
  },
  {
   "cell_type": "markdown",
   "metadata": {
    "id": "p7nFQajCVw5B"
   },
   "source": [
    "[Volver a Contenidos](#back)"
   ]
  },
  {
   "cell_type": "markdown",
   "metadata": {
    "id": "ykKQ0N65_Zcv"
   },
   "source": [
    "# Conclusiones <a id='end'></a>"
   ]
  },
  {
   "cell_type": "markdown",
   "metadata": {
    "id": "tjUwbHb3_Zcv"
   },
   "source": [
    "`Resume aquí tus conclusiones sobre la hipótesis.`"
   ]
  },
  {
   "cell_type": "markdown",
   "metadata": {
    "id": "azLHu64yOIp7"
   },
   "source": [
    "### Nota\n",
    "En proyectos de investigación reales, la prueba de hipótesis estadística es más precisa y cuantitativa. También ten en cuenta que no siempre se pueden sacar conclusiones sobre una ciudad entera a partir de datos de una sola fuente.\n",
    "\n",
    "Aprenderás más sobre la prueba de hipótesis en el sprint de análisis estadístico de datos."
   ]
  },
  {
   "cell_type": "markdown",
   "metadata": {
    "id": "Ju4AHDSgV1FE"
   },
   "source": [
    "[Volver a Contenidos](#back)"
   ]
  }
 ],
 "metadata": {
  "ExecuteTimeLog": [
   {
    "duration": 164,
    "start_time": "2025-03-13T13:15:36.310Z"
   },
   {
    "duration": 11,
    "start_time": "2025-03-13T13:19:15.346Z"
   },
   {
    "duration": 6,
    "start_time": "2025-03-13T13:19:54.143Z"
   },
   {
    "duration": 420,
    "start_time": "2025-03-13T13:20:12.373Z"
   },
   {
    "duration": 93,
    "start_time": "2025-03-13T13:20:40.157Z"
   },
   {
    "duration": 97,
    "start_time": "2025-03-13T13:20:49.527Z"
   },
   {
    "duration": 108,
    "start_time": "2025-03-13T13:22:49.363Z"
   },
   {
    "duration": 92,
    "start_time": "2025-03-13T13:48:58.538Z"
   },
   {
    "duration": 126,
    "start_time": "2025-03-13T13:56:57.464Z"
   },
   {
    "duration": 108,
    "start_time": "2025-03-13T13:57:14.417Z"
   },
   {
    "duration": 100,
    "start_time": "2025-03-13T13:57:25.323Z"
   },
   {
    "duration": 129,
    "start_time": "2025-03-13T13:59:15.957Z"
   },
   {
    "duration": 106,
    "start_time": "2025-03-13T13:59:28.026Z"
   },
   {
    "duration": 106,
    "start_time": "2025-03-13T13:59:43.608Z"
   },
   {
    "duration": 165,
    "start_time": "2025-03-13T14:06:16.587Z"
   },
   {
    "duration": 125,
    "start_time": "2025-03-13T14:07:33.935Z"
   },
   {
    "duration": 125,
    "start_time": "2025-03-13T14:07:45.840Z"
   },
   {
    "duration": 6,
    "start_time": "2025-03-13T14:10:06.629Z"
   },
   {
    "duration": 5,
    "start_time": "2025-03-13T14:12:02.116Z"
   },
   {
    "duration": 6,
    "start_time": "2025-03-13T14:13:02.562Z"
   },
   {
    "duration": 4,
    "start_time": "2025-03-13T14:13:05.421Z"
   },
   {
    "duration": 130,
    "start_time": "2025-03-13T14:25:02.329Z"
   },
   {
    "duration": 123,
    "start_time": "2025-03-13T14:25:16.242Z"
   },
   {
    "duration": 123,
    "start_time": "2025-03-13T14:26:12.089Z"
   },
   {
    "duration": 151,
    "start_time": "2025-03-13T14:35:47.103Z"
   },
   {
    "duration": 187,
    "start_time": "2025-03-13T14:38:03.277Z"
   },
   {
    "duration": 179,
    "start_time": "2025-03-13T14:38:23.394Z"
   },
   {
    "duration": 188,
    "start_time": "2025-03-13T14:40:11.532Z"
   },
   {
    "duration": 176,
    "start_time": "2025-03-13T14:40:22.762Z"
   },
   {
    "duration": 155,
    "start_time": "2025-03-13T14:45:26.760Z"
   },
   {
    "duration": 249,
    "start_time": "2025-03-13T15:06:37.097Z"
   },
   {
    "duration": 249,
    "start_time": "2025-03-13T15:07:16.790Z"
   },
   {
    "duration": 151,
    "start_time": "2025-03-13T15:07:27.795Z"
   },
   {
    "duration": 192,
    "start_time": "2025-03-13T15:20:43.703Z"
   },
   {
    "duration": 169,
    "start_time": "2025-03-13T15:25:20.752Z"
   },
   {
    "duration": 12,
    "start_time": "2025-03-13T15:35:53.395Z"
   },
   {
    "duration": 385,
    "start_time": "2025-03-13T15:36:05.422Z"
   },
   {
    "duration": 236,
    "start_time": "2025-03-13T15:38:30.445Z"
   },
   {
    "duration": 5,
    "start_time": "2025-03-13T15:54:31.084Z"
   },
   {
    "duration": 150,
    "start_time": "2025-03-13T15:55:22.739Z"
   },
   {
    "duration": 14,
    "start_time": "2025-03-13T15:55:37.546Z"
   },
   {
    "duration": 161,
    "start_time": "2025-03-13T16:03:53.702Z"
   },
   {
    "duration": 161,
    "start_time": "2025-03-13T16:04:28.836Z"
   },
   {
    "duration": 156,
    "start_time": "2025-03-13T16:06:31.282Z"
   },
   {
    "duration": 151,
    "start_time": "2025-03-13T16:06:42.842Z"
   },
   {
    "duration": 177,
    "start_time": "2025-03-13T16:07:09.812Z"
   },
   {
    "duration": 151,
    "start_time": "2025-03-13T16:07:25.688Z"
   },
   {
    "duration": 303,
    "start_time": "2025-03-14T08:16:08.420Z"
   },
   {
    "duration": 110,
    "start_time": "2025-03-14T08:16:08.725Z"
   },
   {
    "duration": 98,
    "start_time": "2025-03-14T08:16:08.837Z"
   },
   {
    "duration": 117,
    "start_time": "2025-03-14T08:16:08.938Z"
   },
   {
    "duration": 7,
    "start_time": "2025-03-14T08:16:09.056Z"
   },
   {
    "duration": 0,
    "start_time": "2025-03-14T08:16:09.070Z"
   },
   {
    "duration": 0,
    "start_time": "2025-03-14T08:16:09.071Z"
   },
   {
    "duration": 0,
    "start_time": "2025-03-14T08:16:09.073Z"
   },
   {
    "duration": 0,
    "start_time": "2025-03-14T08:16:09.074Z"
   },
   {
    "duration": 0,
    "start_time": "2025-03-14T08:16:09.076Z"
   },
   {
    "duration": 0,
    "start_time": "2025-03-14T08:16:09.077Z"
   },
   {
    "duration": 0,
    "start_time": "2025-03-14T08:16:09.078Z"
   },
   {
    "duration": 0,
    "start_time": "2025-03-14T08:16:09.080Z"
   },
   {
    "duration": 0,
    "start_time": "2025-03-14T08:16:09.081Z"
   },
   {
    "duration": 0,
    "start_time": "2025-03-14T08:16:09.083Z"
   },
   {
    "duration": 0,
    "start_time": "2025-03-14T08:16:09.084Z"
   },
   {
    "duration": 0,
    "start_time": "2025-03-14T08:16:09.085Z"
   },
   {
    "duration": 0,
    "start_time": "2025-03-14T08:16:09.085Z"
   },
   {
    "duration": 0,
    "start_time": "2025-03-14T08:16:09.087Z"
   },
   {
    "duration": 0,
    "start_time": "2025-03-14T08:16:09.088Z"
   },
   {
    "duration": 0,
    "start_time": "2025-03-14T08:16:09.089Z"
   },
   {
    "duration": 0,
    "start_time": "2025-03-14T08:16:09.090Z"
   },
   {
    "duration": 0,
    "start_time": "2025-03-14T08:16:09.091Z"
   },
   {
    "duration": 0,
    "start_time": "2025-03-14T08:16:09.092Z"
   },
   {
    "duration": 0,
    "start_time": "2025-03-14T08:16:09.093Z"
   },
   {
    "duration": 0,
    "start_time": "2025-03-14T08:16:09.094Z"
   },
   {
    "duration": 0,
    "start_time": "2025-03-14T08:16:09.096Z"
   },
   {
    "duration": 0,
    "start_time": "2025-03-14T08:16:09.098Z"
   },
   {
    "duration": 0,
    "start_time": "2025-03-14T08:16:09.099Z"
   },
   {
    "duration": 5,
    "start_time": "2025-03-14T08:16:30.473Z"
   },
   {
    "duration": 6,
    "start_time": "2025-03-14T08:16:35.357Z"
   },
   {
    "duration": 0,
    "start_time": "2025-03-14T08:16:35.365Z"
   },
   {
    "duration": 0,
    "start_time": "2025-03-14T08:16:35.366Z"
   },
   {
    "duration": 0,
    "start_time": "2025-03-14T08:16:35.367Z"
   },
   {
    "duration": 0,
    "start_time": "2025-03-14T08:16:35.369Z"
   },
   {
    "duration": 0,
    "start_time": "2025-03-14T08:16:35.371Z"
   },
   {
    "duration": 0,
    "start_time": "2025-03-14T08:16:35.372Z"
   },
   {
    "duration": 0,
    "start_time": "2025-03-14T08:16:35.373Z"
   },
   {
    "duration": 0,
    "start_time": "2025-03-14T08:16:35.374Z"
   },
   {
    "duration": 114,
    "start_time": "2025-03-14T08:16:35.377Z"
   },
   {
    "duration": 123,
    "start_time": "2025-03-14T08:16:35.493Z"
   },
   {
    "duration": 109,
    "start_time": "2025-03-14T08:16:35.618Z"
   },
   {
    "duration": 123,
    "start_time": "2025-03-14T08:16:35.729Z"
   },
   {
    "duration": 140,
    "start_time": "2025-03-14T08:16:35.854Z"
   },
   {
    "duration": 185,
    "start_time": "2025-03-14T08:16:35.995Z"
   },
   {
    "duration": 189,
    "start_time": "2025-03-14T08:16:36.181Z"
   },
   {
    "duration": 151,
    "start_time": "2025-03-14T08:16:36.372Z"
   },
   {
    "duration": 170,
    "start_time": "2025-03-14T08:16:36.525Z"
   },
   {
    "duration": 158,
    "start_time": "2025-03-14T08:16:36.698Z"
   },
   {
    "duration": 167,
    "start_time": "2025-03-14T08:16:36.857Z"
   },
   {
    "duration": 180,
    "start_time": "2025-03-14T08:16:37.026Z"
   },
   {
    "duration": 178,
    "start_time": "2025-03-14T08:16:37.208Z"
   },
   {
    "duration": 4,
    "start_time": "2025-03-14T08:16:37.387Z"
   },
   {
    "duration": 0,
    "start_time": "2025-03-14T08:16:37.393Z"
   },
   {
    "duration": 0,
    "start_time": "2025-03-14T08:16:37.394Z"
   },
   {
    "duration": 0,
    "start_time": "2025-03-14T08:16:37.395Z"
   },
   {
    "duration": 0,
    "start_time": "2025-03-14T08:16:37.396Z"
   },
   {
    "duration": 0,
    "start_time": "2025-03-14T08:16:37.398Z"
   },
   {
    "duration": 0,
    "start_time": "2025-03-14T08:16:37.400Z"
   },
   {
    "duration": 161,
    "start_time": "2025-03-14T17:52:36.651Z"
   },
   {
    "duration": 11,
    "start_time": "2025-03-14T17:53:32.068Z"
   },
   {
    "duration": 401,
    "start_time": "2025-03-14T17:53:58.841Z"
   },
   {
    "duration": 163,
    "start_time": "2025-03-14T17:59:10.691Z"
   },
   {
    "duration": 107,
    "start_time": "2025-03-14T18:04:28.280Z"
   },
   {
    "duration": 94,
    "start_time": "2025-03-14T18:04:35.391Z"
   },
   {
    "duration": 98,
    "start_time": "2025-03-14T18:04:40.123Z"
   },
   {
    "duration": 95,
    "start_time": "2025-03-14T18:04:44.103Z"
   },
   {
    "duration": 93,
    "start_time": "2025-03-14T18:04:47.868Z"
   },
   {
    "duration": 153,
    "start_time": "2025-03-14T18:05:39.052Z"
   },
   {
    "duration": 153,
    "start_time": "2025-03-14T18:05:45.830Z"
   },
   {
    "duration": 167,
    "start_time": "2025-03-14T18:05:47.183Z"
   },
   {
    "duration": 154,
    "start_time": "2025-03-14T18:05:50.059Z"
   },
   {
    "duration": 168,
    "start_time": "2025-03-14T18:05:55.211Z"
   },
   {
    "duration": 10,
    "start_time": "2025-03-17T00:19:38.106Z"
   },
   {
    "duration": 198,
    "start_time": "2025-03-25T02:16:34.364Z"
   },
   {
    "duration": 312,
    "start_time": "2025-03-25T02:17:13.243Z"
   },
   {
    "duration": 106,
    "start_time": "2025-03-25T02:17:18.041Z"
   },
   {
    "duration": 159,
    "start_time": "2025-03-25T02:18:36.820Z"
   },
   {
    "duration": 315,
    "start_time": "2025-03-25T02:18:48.604Z"
   },
   {
    "duration": 95,
    "start_time": "2025-03-25T02:18:57.836Z"
   },
   {
    "duration": 9,
    "start_time": "2025-03-25T02:19:17.426Z"
   },
   {
    "duration": 12,
    "start_time": "2025-03-25T02:19:31.427Z"
   },
   {
    "duration": 25,
    "start_time": "2025-03-25T02:20:41.829Z"
   },
   {
    "duration": 3,
    "start_time": "2025-03-25T02:21:41.063Z"
   },
   {
    "duration": 3,
    "start_time": "2025-03-25T02:23:31.507Z"
   },
   {
    "duration": 4,
    "start_time": "2025-03-25T02:23:49.654Z"
   },
   {
    "duration": 7,
    "start_time": "2025-03-25T02:25:02.818Z"
   },
   {
    "duration": 4,
    "start_time": "2025-03-25T02:26:55.139Z"
   },
   {
    "duration": 4,
    "start_time": "2025-03-25T02:27:58.692Z"
   },
   {
    "duration": 4,
    "start_time": "2025-03-25T02:29:38.004Z"
   },
   {
    "duration": 4,
    "start_time": "2025-03-25T02:29:58.429Z"
   },
   {
    "duration": 4,
    "start_time": "2025-03-25T02:32:04.020Z"
   },
   {
    "duration": 4,
    "start_time": "2025-03-25T02:32:06.515Z"
   },
   {
    "duration": 93,
    "start_time": "2025-03-25T02:32:39.599Z"
   },
   {
    "duration": 3,
    "start_time": "2025-03-25T02:32:50.256Z"
   },
   {
    "duration": 4,
    "start_time": "2025-03-25T02:32:55.123Z"
   },
   {
    "duration": 4,
    "start_time": "2025-03-25T02:33:00.790Z"
   },
   {
    "duration": 13,
    "start_time": "2025-03-25T02:35:23.443Z"
   },
   {
    "duration": 5,
    "start_time": "2025-03-25T02:35:42.422Z"
   },
   {
    "duration": 4,
    "start_time": "2025-03-25T02:36:39.595Z"
   },
   {
    "duration": 3,
    "start_time": "2025-03-25T02:37:01.233Z"
   },
   {
    "duration": 3,
    "start_time": "2025-03-25T02:37:38.586Z"
   },
   {
    "duration": 16,
    "start_time": "2025-03-25T02:38:28.512Z"
   },
   {
    "duration": 18,
    "start_time": "2025-03-25T02:39:51.289Z"
   },
   {
    "duration": 16,
    "start_time": "2025-03-25T02:40:55.463Z"
   },
   {
    "duration": 45,
    "start_time": "2025-03-25T02:41:21.654Z"
   },
   {
    "duration": 80,
    "start_time": "2025-03-25T02:42:36.128Z"
   },
   {
    "duration": 40,
    "start_time": "2025-03-25T02:42:57.569Z"
   },
   {
    "duration": 37,
    "start_time": "2025-03-25T02:43:16.511Z"
   },
   {
    "duration": 34,
    "start_time": "2025-03-25T02:44:30.136Z"
   },
   {
    "duration": 10,
    "start_time": "2025-03-25T02:44:37.788Z"
   },
   {
    "duration": 13,
    "start_time": "2025-03-25T02:45:52.348Z"
   },
   {
    "duration": 12,
    "start_time": "2025-03-25T02:46:53.894Z"
   },
   {
    "duration": 3,
    "start_time": "2025-03-25T02:47:14.575Z"
   },
   {
    "duration": 13,
    "start_time": "2025-03-25T02:47:19.991Z"
   },
   {
    "duration": 6,
    "start_time": "2025-03-25T02:47:48.626Z"
   },
   {
    "duration": 8,
    "start_time": "2025-03-25T02:48:09.951Z"
   },
   {
    "duration": 12,
    "start_time": "2025-03-25T02:49:06.969Z"
   },
   {
    "duration": 22,
    "start_time": "2025-03-25T02:49:18.629Z"
   },
   {
    "duration": 8,
    "start_time": "2025-03-25T02:51:18.801Z"
   },
   {
    "duration": 11,
    "start_time": "2025-03-25T02:53:28.974Z"
   },
   {
    "duration": 12,
    "start_time": "2025-03-25T02:54:35.400Z"
   },
   {
    "duration": 12,
    "start_time": "2025-03-25T02:55:11.002Z"
   },
   {
    "duration": 12,
    "start_time": "2025-03-25T02:55:14.902Z"
   },
   {
    "duration": 5,
    "start_time": "2025-03-25T02:56:13.686Z"
   },
   {
    "duration": 3,
    "start_time": "2025-03-25T02:56:36.228Z"
   },
   {
    "duration": 12,
    "start_time": "2025-03-25T02:56:55.977Z"
   },
   {
    "duration": 13,
    "start_time": "2025-03-25T02:57:15.675Z"
   },
   {
    "duration": 16,
    "start_time": "2025-03-25T02:57:27.219Z"
   },
   {
    "duration": 12,
    "start_time": "2025-03-25T02:57:36.668Z"
   },
   {
    "duration": 14,
    "start_time": "2025-03-25T02:57:46.908Z"
   },
   {
    "duration": 12,
    "start_time": "2025-03-25T02:57:57.237Z"
   },
   {
    "duration": 316,
    "start_time": "2025-03-25T08:16:50.640Z"
   },
   {
    "duration": 115,
    "start_time": "2025-03-25T08:16:50.958Z"
   },
   {
    "duration": 11,
    "start_time": "2025-03-25T08:16:51.075Z"
   },
   {
    "duration": 22,
    "start_time": "2025-03-25T08:16:51.088Z"
   },
   {
    "duration": 3,
    "start_time": "2025-03-25T08:16:51.112Z"
   },
   {
    "duration": 16,
    "start_time": "2025-03-25T08:16:51.117Z"
   },
   {
    "duration": 3,
    "start_time": "2025-03-25T08:16:51.135Z"
   },
   {
    "duration": 4,
    "start_time": "2025-03-25T08:16:51.140Z"
   },
   {
    "duration": 3,
    "start_time": "2025-03-25T08:16:51.146Z"
   },
   {
    "duration": 18,
    "start_time": "2025-03-25T08:16:51.151Z"
   },
   {
    "duration": 17,
    "start_time": "2025-03-25T08:16:51.171Z"
   },
   {
    "duration": 50,
    "start_time": "2025-03-25T08:16:51.190Z"
   },
   {
    "duration": 44,
    "start_time": "2025-03-25T08:16:51.242Z"
   },
   {
    "duration": 63,
    "start_time": "2025-03-25T08:16:51.289Z"
   },
   {
    "duration": 39,
    "start_time": "2025-03-25T08:16:51.354Z"
   },
   {
    "duration": 8,
    "start_time": "2025-03-25T08:16:51.394Z"
   },
   {
    "duration": 2,
    "start_time": "2025-03-25T08:16:51.405Z"
   },
   {
    "duration": 23,
    "start_time": "2025-03-25T08:16:51.409Z"
   },
   {
    "duration": 9,
    "start_time": "2025-03-25T08:16:51.433Z"
   },
   {
    "duration": 11,
    "start_time": "2025-03-25T08:16:51.443Z"
   },
   {
    "duration": 11,
    "start_time": "2025-03-25T08:16:51.456Z"
   },
   {
    "duration": 2,
    "start_time": "2025-03-25T08:16:51.469Z"
   },
   {
    "duration": 12,
    "start_time": "2025-03-25T08:16:51.473Z"
   },
   {
    "duration": 49,
    "start_time": "2025-03-25T08:16:51.487Z"
   },
   {
    "duration": 10,
    "start_time": "2025-03-25T08:16:51.538Z"
   },
   {
    "duration": 10,
    "start_time": "2025-03-25T08:16:51.550Z"
   },
   {
    "duration": 11,
    "start_time": "2025-03-25T08:16:51.562Z"
   },
   {
    "duration": 11,
    "start_time": "2025-03-25T08:16:51.575Z"
   }
  ],
  "colab": {
   "collapsed_sections": [
    "E0vqbgi9ay0H",
    "VUC88oWjTJw2"
   ],
   "provenance": []
  },
  "kernelspec": {
   "display_name": "Python 3 (ipykernel)",
   "language": "python",
   "name": "python3"
  },
  "language_info": {
   "codemirror_mode": {
    "name": "ipython",
    "version": 3
   },
   "file_extension": ".py",
   "mimetype": "text/x-python",
   "name": "python",
   "nbconvert_exporter": "python",
   "pygments_lexer": "ipython3",
   "version": "3.9.19"
  },
  "toc": {
   "base_numbering": 1,
   "nav_menu": {},
   "number_sections": true,
   "sideBar": true,
   "skip_h1_title": true,
   "title_cell": "Table of Contents",
   "title_sidebar": "Contents",
   "toc_cell": false,
   "toc_position": {},
   "toc_section_display": true,
   "toc_window_display": false
  }
 },
 "nbformat": 4,
 "nbformat_minor": 1
}
